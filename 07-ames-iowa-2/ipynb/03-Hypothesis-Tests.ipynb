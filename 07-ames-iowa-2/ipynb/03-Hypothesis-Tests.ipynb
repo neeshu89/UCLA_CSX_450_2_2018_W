{
 "cells": [
  {
   "cell_type": "code",
   "execution_count": 1,
   "metadata": {},
   "outputs": [],
   "source": [
    "source('../src/load_data.r')\n",
    "source('../src/multiplot.r')"
   ]
  },
  {
   "cell_type": "code",
   "execution_count": 2,
   "metadata": {},
   "outputs": [
    {
     "data": {
      "text/html": [
       "<ol class=list-inline>\n",
       "\t<li>1451</li>\n",
       "\t<li>80</li>\n",
       "</ol>\n"
      ],
      "text/latex": [
       "\\begin{enumerate*}\n",
       "\\item 1451\n",
       "\\item 80\n",
       "\\end{enumerate*}\n"
      ],
      "text/markdown": [
       "1. 1451\n",
       "2. 80\n",
       "\n",
       "\n"
      ],
      "text/plain": [
       "[1] 1451   80"
      ]
     },
     "metadata": {},
     "output_type": "display_data"
    }
   ],
   "source": [
    "dim(housing_df)"
   ]
  },
  {
   "cell_type": "code",
   "execution_count": 3,
   "metadata": {},
   "outputs": [
    {
     "data": {
      "text/html": [
       "<table>\n",
       "<thead><tr><th scope=col>MSSubClass</th><th scope=col>MSZoning</th><th scope=col>LotFrontage</th><th scope=col>LotArea</th><th scope=col>LotShape</th><th scope=col>LandContour</th><th scope=col>Utilities</th><th scope=col>LotConfig</th><th scope=col>LandSlope</th><th scope=col>Neighborhood</th><th scope=col>⋯</th><th scope=col>PoolArea</th><th scope=col>PoolQC</th><th scope=col>Fence</th><th scope=col>MiscFeature</th><th scope=col>MiscVal</th><th scope=col>MoSold</th><th scope=col>YrSold</th><th scope=col>SaleType</th><th scope=col>SaleCondition</th><th scope=col>SalePrice</th></tr></thead>\n",
       "<tbody>\n",
       "\t<tr><td>60     </td><td>RL     </td><td>65     </td><td> 8450  </td><td>Reg    </td><td>Lvl    </td><td>AllPub </td><td>Inside </td><td>Gtl    </td><td>CollgCr</td><td>⋯      </td><td>0      </td><td>without</td><td>without</td><td>without</td><td>  0    </td><td>2      </td><td>2008   </td><td>WD     </td><td>Normal </td><td>208500 </td></tr>\n",
       "\t<tr><td>20     </td><td>RL     </td><td>80     </td><td> 9600  </td><td>Reg    </td><td>Lvl    </td><td>AllPub </td><td>FR2    </td><td>Gtl    </td><td>Veenker</td><td>⋯      </td><td>0      </td><td>without</td><td>without</td><td>without</td><td>  0    </td><td>5      </td><td>2007   </td><td>WD     </td><td>Normal </td><td>181500 </td></tr>\n",
       "\t<tr><td>60     </td><td>RL     </td><td>68     </td><td>11250  </td><td>IR1    </td><td>Lvl    </td><td>AllPub </td><td>Inside </td><td>Gtl    </td><td>CollgCr</td><td>⋯      </td><td>0      </td><td>without</td><td>without</td><td>without</td><td>  0    </td><td>9      </td><td>2008   </td><td>WD     </td><td>Normal </td><td>223500 </td></tr>\n",
       "\t<tr><td>70     </td><td>RL     </td><td>60     </td><td> 9550  </td><td>IR1    </td><td>Lvl    </td><td>AllPub </td><td>Corner </td><td>Gtl    </td><td>Crawfor</td><td>⋯      </td><td>0      </td><td>without</td><td>without</td><td>without</td><td>  0    </td><td>2      </td><td>2006   </td><td>WD     </td><td>Abnorml</td><td>140000 </td></tr>\n",
       "\t<tr><td>60     </td><td>RL     </td><td>84     </td><td>14260  </td><td>IR1    </td><td>Lvl    </td><td>AllPub </td><td>FR2    </td><td>Gtl    </td><td>NoRidge</td><td>⋯      </td><td>0      </td><td>without</td><td>without</td><td>without</td><td>  0    </td><td>12     </td><td>2008   </td><td>WD     </td><td>Normal </td><td>250000 </td></tr>\n",
       "\t<tr><td>50     </td><td>RL     </td><td>85     </td><td>14115  </td><td>IR1    </td><td>Lvl    </td><td>AllPub </td><td>Inside </td><td>Gtl    </td><td>Mitchel</td><td>⋯      </td><td>0      </td><td>without</td><td>MnPrv  </td><td>Shed   </td><td>700    </td><td>10     </td><td>2009   </td><td>WD     </td><td>Normal </td><td>143000 </td></tr>\n",
       "</tbody>\n",
       "</table>\n"
      ],
      "text/latex": [
       "\\begin{tabular}{r|llllllllllllllllllllllllllllllllllllllllllllllllllllllllllllllllllllllllllllllll}\n",
       " MSSubClass & MSZoning & LotFrontage & LotArea & LotShape & LandContour & Utilities & LotConfig & LandSlope & Neighborhood & ⋯ & PoolArea & PoolQC & Fence & MiscFeature & MiscVal & MoSold & YrSold & SaleType & SaleCondition & SalePrice\\\\\n",
       "\\hline\n",
       "\t 60      & RL      & 65      &  8450   & Reg     & Lvl     & AllPub  & Inside  & Gtl     & CollgCr & ⋯       & 0       & without & without & without &   0     & 2       & 2008    & WD      & Normal  & 208500 \\\\\n",
       "\t 20      & RL      & 80      &  9600   & Reg     & Lvl     & AllPub  & FR2     & Gtl     & Veenker & ⋯       & 0       & without & without & without &   0     & 5       & 2007    & WD      & Normal  & 181500 \\\\\n",
       "\t 60      & RL      & 68      & 11250   & IR1     & Lvl     & AllPub  & Inside  & Gtl     & CollgCr & ⋯       & 0       & without & without & without &   0     & 9       & 2008    & WD      & Normal  & 223500 \\\\\n",
       "\t 70      & RL      & 60      &  9550   & IR1     & Lvl     & AllPub  & Corner  & Gtl     & Crawfor & ⋯       & 0       & without & without & without &   0     & 2       & 2006    & WD      & Abnorml & 140000 \\\\\n",
       "\t 60      & RL      & 84      & 14260   & IR1     & Lvl     & AllPub  & FR2     & Gtl     & NoRidge & ⋯       & 0       & without & without & without &   0     & 12      & 2008    & WD      & Normal  & 250000 \\\\\n",
       "\t 50      & RL      & 85      & 14115   & IR1     & Lvl     & AllPub  & Inside  & Gtl     & Mitchel & ⋯       & 0       & without & MnPrv   & Shed    & 700     & 10      & 2009    & WD      & Normal  & 143000 \\\\\n",
       "\\end{tabular}\n"
      ],
      "text/markdown": [
       "\n",
       "MSSubClass | MSZoning | LotFrontage | LotArea | LotShape | LandContour | Utilities | LotConfig | LandSlope | Neighborhood | ⋯ | PoolArea | PoolQC | Fence | MiscFeature | MiscVal | MoSold | YrSold | SaleType | SaleCondition | SalePrice | \n",
       "|---|---|---|---|---|---|\n",
       "| 60      | RL      | 65      |  8450   | Reg     | Lvl     | AllPub  | Inside  | Gtl     | CollgCr | ⋯       | 0       | without | without | without |   0     | 2       | 2008    | WD      | Normal  | 208500  | \n",
       "| 20      | RL      | 80      |  9600   | Reg     | Lvl     | AllPub  | FR2     | Gtl     | Veenker | ⋯       | 0       | without | without | without |   0     | 5       | 2007    | WD      | Normal  | 181500  | \n",
       "| 60      | RL      | 68      | 11250   | IR1     | Lvl     | AllPub  | Inside  | Gtl     | CollgCr | ⋯       | 0       | without | without | without |   0     | 9       | 2008    | WD      | Normal  | 223500  | \n",
       "| 70      | RL      | 60      |  9550   | IR1     | Lvl     | AllPub  | Corner  | Gtl     | Crawfor | ⋯       | 0       | without | without | without |   0     | 2       | 2006    | WD      | Abnorml | 140000  | \n",
       "| 60      | RL      | 84      | 14260   | IR1     | Lvl     | AllPub  | FR2     | Gtl     | NoRidge | ⋯       | 0       | without | without | without |   0     | 12      | 2008    | WD      | Normal  | 250000  | \n",
       "| 50      | RL      | 85      | 14115   | IR1     | Lvl     | AllPub  | Inside  | Gtl     | Mitchel | ⋯       | 0       | without | MnPrv   | Shed    | 700     | 10      | 2009    | WD      | Normal  | 143000  | \n",
       "\n",
       "\n"
      ],
      "text/plain": [
       "  MSSubClass MSZoning LotFrontage LotArea LotShape LandContour Utilities\n",
       "1 60         RL       65           8450   Reg      Lvl         AllPub   \n",
       "2 20         RL       80           9600   Reg      Lvl         AllPub   \n",
       "3 60         RL       68          11250   IR1      Lvl         AllPub   \n",
       "4 70         RL       60           9550   IR1      Lvl         AllPub   \n",
       "5 60         RL       84          14260   IR1      Lvl         AllPub   \n",
       "6 50         RL       85          14115   IR1      Lvl         AllPub   \n",
       "  LotConfig LandSlope Neighborhood ⋯ PoolArea PoolQC  Fence   MiscFeature\n",
       "1 Inside    Gtl       CollgCr      ⋯ 0        without without without    \n",
       "2 FR2       Gtl       Veenker      ⋯ 0        without without without    \n",
       "3 Inside    Gtl       CollgCr      ⋯ 0        without without without    \n",
       "4 Corner    Gtl       Crawfor      ⋯ 0        without without without    \n",
       "5 FR2       Gtl       NoRidge      ⋯ 0        without without without    \n",
       "6 Inside    Gtl       Mitchel      ⋯ 0        without MnPrv   Shed       \n",
       "  MiscVal MoSold YrSold SaleType SaleCondition SalePrice\n",
       "1   0     2      2008   WD       Normal        208500   \n",
       "2   0     5      2007   WD       Normal        181500   \n",
       "3   0     9      2008   WD       Normal        223500   \n",
       "4   0     2      2006   WD       Abnorml       140000   \n",
       "5   0     12     2008   WD       Normal        250000   \n",
       "6 700     10     2009   WD       Normal        143000   "
      ]
     },
     "metadata": {},
     "output_type": "display_data"
    }
   ],
   "source": [
    "head(housing_df)"
   ]
  },
  {
   "cell_type": "code",
   "execution_count": 4,
   "metadata": {},
   "outputs": [],
   "source": [
    "count_empty_total()"
   ]
  },
  {
   "cell_type": "code",
   "execution_count": 5,
   "metadata": {
    "scrolled": false
   },
   "outputs": [
    {
     "data": {
      "text/html": [
       "<ol class=list-inline>\n",
       "\t<li>'LotFrontage'</li>\n",
       "\t<li>'LotArea'</li>\n",
       "\t<li>'YearBuilt'</li>\n",
       "\t<li>'YearRemodAdd'</li>\n",
       "\t<li>'MasVnrArea'</li>\n",
       "\t<li>'BsmtFinSF1'</li>\n",
       "\t<li>'BsmtFinSF2'</li>\n",
       "\t<li>'BsmtUnfSF'</li>\n",
       "\t<li>'TotalBsmtSF'</li>\n",
       "\t<li>'FirstFlrSF'</li>\n",
       "\t<li>'SecondFlrSF'</li>\n",
       "\t<li>'LowQualFinSF'</li>\n",
       "\t<li>'GrLivArea'</li>\n",
       "\t<li>'GarageYrBlt'</li>\n",
       "\t<li>'GarageArea'</li>\n",
       "\t<li>'WoodDeckSF'</li>\n",
       "\t<li>'OpenPorchSF'</li>\n",
       "\t<li>'EnclosedPorch'</li>\n",
       "\t<li>'ThreeSsnPorch'</li>\n",
       "\t<li>'ScreenPorch'</li>\n",
       "\t<li>'PoolArea'</li>\n",
       "\t<li>'MiscVal'</li>\n",
       "\t<li>'YrSold'</li>\n",
       "\t<li>'SalePrice'</li>\n",
       "</ol>\n"
      ],
      "text/latex": [
       "\\begin{enumerate*}\n",
       "\\item 'LotFrontage'\n",
       "\\item 'LotArea'\n",
       "\\item 'YearBuilt'\n",
       "\\item 'YearRemodAdd'\n",
       "\\item 'MasVnrArea'\n",
       "\\item 'BsmtFinSF1'\n",
       "\\item 'BsmtFinSF2'\n",
       "\\item 'BsmtUnfSF'\n",
       "\\item 'TotalBsmtSF'\n",
       "\\item 'FirstFlrSF'\n",
       "\\item 'SecondFlrSF'\n",
       "\\item 'LowQualFinSF'\n",
       "\\item 'GrLivArea'\n",
       "\\item 'GarageYrBlt'\n",
       "\\item 'GarageArea'\n",
       "\\item 'WoodDeckSF'\n",
       "\\item 'OpenPorchSF'\n",
       "\\item 'EnclosedPorch'\n",
       "\\item 'ThreeSsnPorch'\n",
       "\\item 'ScreenPorch'\n",
       "\\item 'PoolArea'\n",
       "\\item 'MiscVal'\n",
       "\\item 'YrSold'\n",
       "\\item 'SalePrice'\n",
       "\\end{enumerate*}\n"
      ],
      "text/markdown": [
       "1. 'LotFrontage'\n",
       "2. 'LotArea'\n",
       "3. 'YearBuilt'\n",
       "4. 'YearRemodAdd'\n",
       "5. 'MasVnrArea'\n",
       "6. 'BsmtFinSF1'\n",
       "7. 'BsmtFinSF2'\n",
       "8. 'BsmtUnfSF'\n",
       "9. 'TotalBsmtSF'\n",
       "10. 'FirstFlrSF'\n",
       "11. 'SecondFlrSF'\n",
       "12. 'LowQualFinSF'\n",
       "13. 'GrLivArea'\n",
       "14. 'GarageYrBlt'\n",
       "15. 'GarageArea'\n",
       "16. 'WoodDeckSF'\n",
       "17. 'OpenPorchSF'\n",
       "18. 'EnclosedPorch'\n",
       "19. 'ThreeSsnPorch'\n",
       "20. 'ScreenPorch'\n",
       "21. 'PoolArea'\n",
       "22. 'MiscVal'\n",
       "23. 'YrSold'\n",
       "24. 'SalePrice'\n",
       "\n",
       "\n"
      ],
      "text/plain": [
       " [1] \"LotFrontage\"   \"LotArea\"       \"YearBuilt\"     \"YearRemodAdd\" \n",
       " [5] \"MasVnrArea\"    \"BsmtFinSF1\"    \"BsmtFinSF2\"    \"BsmtUnfSF\"    \n",
       " [9] \"TotalBsmtSF\"   \"FirstFlrSF\"    \"SecondFlrSF\"   \"LowQualFinSF\" \n",
       "[13] \"GrLivArea\"     \"GarageYrBlt\"   \"GarageArea\"    \"WoodDeckSF\"   \n",
       "[17] \"OpenPorchSF\"   \"EnclosedPorch\" \"ThreeSsnPorch\" \"ScreenPorch\"  \n",
       "[21] \"PoolArea\"      \"MiscVal\"       \"YrSold\"        \"SalePrice\"    "
      ]
     },
     "metadata": {},
     "output_type": "display_data"
    }
   ],
   "source": [
    "numeric_features = colnames(Filter(is.numeric, housing_df))\n",
    "numeric_features"
   ]
  },
  {
   "cell_type": "code",
   "execution_count": 6,
   "metadata": {},
   "outputs": [
    {
     "data": {
      "text/html": [
       "<ol class=list-inline>\n",
       "\t<li>'MSSubClass'</li>\n",
       "\t<li>'MSZoning'</li>\n",
       "\t<li>'LotShape'</li>\n",
       "\t<li>'LandContour'</li>\n",
       "\t<li>'Utilities'</li>\n",
       "\t<li>'LotConfig'</li>\n",
       "\t<li>'LandSlope'</li>\n",
       "\t<li>'Neighborhood'</li>\n",
       "\t<li>'Condition1'</li>\n",
       "\t<li>'Condition2'</li>\n",
       "\t<li>'BldgType'</li>\n",
       "\t<li>'HouseStyle'</li>\n",
       "\t<li>'Street'</li>\n",
       "\t<li>'Alley'</li>\n",
       "\t<li>'OverallQual'</li>\n",
       "\t<li>'OverallCond'</li>\n",
       "\t<li>'RoofStyle'</li>\n",
       "\t<li>'RoofMatl'</li>\n",
       "\t<li>'Exterior1st'</li>\n",
       "\t<li>'Exterior2nd'</li>\n",
       "\t<li>'MasVnrType'</li>\n",
       "\t<li>'ExterQual'</li>\n",
       "\t<li>'ExterCond'</li>\n",
       "\t<li>'Foundation'</li>\n",
       "\t<li>'BsmtQual'</li>\n",
       "\t<li>'BsmtCond'</li>\n",
       "\t<li>'BsmtExposure'</li>\n",
       "\t<li>'BsmtFinType1'</li>\n",
       "\t<li>'BsmtFinType2'</li>\n",
       "\t<li>'Heating'</li>\n",
       "\t<li>'HeatingQC'</li>\n",
       "\t<li>'CentralAir'</li>\n",
       "\t<li>'Electrical'</li>\n",
       "\t<li>'BsmtFullBath'</li>\n",
       "\t<li>'BsmtHalfBath'</li>\n",
       "\t<li>'FullBath'</li>\n",
       "\t<li>'HalfBath'</li>\n",
       "\t<li>'BedroomAbvGr'</li>\n",
       "\t<li>'KitchenAbvGr'</li>\n",
       "\t<li>'KitchenQual'</li>\n",
       "\t<li>'TotRmsAbvGrd'</li>\n",
       "\t<li>'Functional'</li>\n",
       "\t<li>'Fireplaces'</li>\n",
       "\t<li>'FireplaceQu'</li>\n",
       "\t<li>'GarageType'</li>\n",
       "\t<li>'GarageFinish'</li>\n",
       "\t<li>'GarageCars'</li>\n",
       "\t<li>'GarageQual'</li>\n",
       "\t<li>'GarageCond'</li>\n",
       "\t<li>'PavedDrive'</li>\n",
       "\t<li>'PoolQC'</li>\n",
       "\t<li>'Fence'</li>\n",
       "\t<li>'MiscFeature'</li>\n",
       "\t<li>'MoSold'</li>\n",
       "\t<li>'SaleType'</li>\n",
       "\t<li>'SaleCondition'</li>\n",
       "</ol>\n"
      ],
      "text/latex": [
       "\\begin{enumerate*}\n",
       "\\item 'MSSubClass'\n",
       "\\item 'MSZoning'\n",
       "\\item 'LotShape'\n",
       "\\item 'LandContour'\n",
       "\\item 'Utilities'\n",
       "\\item 'LotConfig'\n",
       "\\item 'LandSlope'\n",
       "\\item 'Neighborhood'\n",
       "\\item 'Condition1'\n",
       "\\item 'Condition2'\n",
       "\\item 'BldgType'\n",
       "\\item 'HouseStyle'\n",
       "\\item 'Street'\n",
       "\\item 'Alley'\n",
       "\\item 'OverallQual'\n",
       "\\item 'OverallCond'\n",
       "\\item 'RoofStyle'\n",
       "\\item 'RoofMatl'\n",
       "\\item 'Exterior1st'\n",
       "\\item 'Exterior2nd'\n",
       "\\item 'MasVnrType'\n",
       "\\item 'ExterQual'\n",
       "\\item 'ExterCond'\n",
       "\\item 'Foundation'\n",
       "\\item 'BsmtQual'\n",
       "\\item 'BsmtCond'\n",
       "\\item 'BsmtExposure'\n",
       "\\item 'BsmtFinType1'\n",
       "\\item 'BsmtFinType2'\n",
       "\\item 'Heating'\n",
       "\\item 'HeatingQC'\n",
       "\\item 'CentralAir'\n",
       "\\item 'Electrical'\n",
       "\\item 'BsmtFullBath'\n",
       "\\item 'BsmtHalfBath'\n",
       "\\item 'FullBath'\n",
       "\\item 'HalfBath'\n",
       "\\item 'BedroomAbvGr'\n",
       "\\item 'KitchenAbvGr'\n",
       "\\item 'KitchenQual'\n",
       "\\item 'TotRmsAbvGrd'\n",
       "\\item 'Functional'\n",
       "\\item 'Fireplaces'\n",
       "\\item 'FireplaceQu'\n",
       "\\item 'GarageType'\n",
       "\\item 'GarageFinish'\n",
       "\\item 'GarageCars'\n",
       "\\item 'GarageQual'\n",
       "\\item 'GarageCond'\n",
       "\\item 'PavedDrive'\n",
       "\\item 'PoolQC'\n",
       "\\item 'Fence'\n",
       "\\item 'MiscFeature'\n",
       "\\item 'MoSold'\n",
       "\\item 'SaleType'\n",
       "\\item 'SaleCondition'\n",
       "\\end{enumerate*}\n"
      ],
      "text/markdown": [
       "1. 'MSSubClass'\n",
       "2. 'MSZoning'\n",
       "3. 'LotShape'\n",
       "4. 'LandContour'\n",
       "5. 'Utilities'\n",
       "6. 'LotConfig'\n",
       "7. 'LandSlope'\n",
       "8. 'Neighborhood'\n",
       "9. 'Condition1'\n",
       "10. 'Condition2'\n",
       "11. 'BldgType'\n",
       "12. 'HouseStyle'\n",
       "13. 'Street'\n",
       "14. 'Alley'\n",
       "15. 'OverallQual'\n",
       "16. 'OverallCond'\n",
       "17. 'RoofStyle'\n",
       "18. 'RoofMatl'\n",
       "19. 'Exterior1st'\n",
       "20. 'Exterior2nd'\n",
       "21. 'MasVnrType'\n",
       "22. 'ExterQual'\n",
       "23. 'ExterCond'\n",
       "24. 'Foundation'\n",
       "25. 'BsmtQual'\n",
       "26. 'BsmtCond'\n",
       "27. 'BsmtExposure'\n",
       "28. 'BsmtFinType1'\n",
       "29. 'BsmtFinType2'\n",
       "30. 'Heating'\n",
       "31. 'HeatingQC'\n",
       "32. 'CentralAir'\n",
       "33. 'Electrical'\n",
       "34. 'BsmtFullBath'\n",
       "35. 'BsmtHalfBath'\n",
       "36. 'FullBath'\n",
       "37. 'HalfBath'\n",
       "38. 'BedroomAbvGr'\n",
       "39. 'KitchenAbvGr'\n",
       "40. 'KitchenQual'\n",
       "41. 'TotRmsAbvGrd'\n",
       "42. 'Functional'\n",
       "43. 'Fireplaces'\n",
       "44. 'FireplaceQu'\n",
       "45. 'GarageType'\n",
       "46. 'GarageFinish'\n",
       "47. 'GarageCars'\n",
       "48. 'GarageQual'\n",
       "49. 'GarageCond'\n",
       "50. 'PavedDrive'\n",
       "51. 'PoolQC'\n",
       "52. 'Fence'\n",
       "53. 'MiscFeature'\n",
       "54. 'MoSold'\n",
       "55. 'SaleType'\n",
       "56. 'SaleCondition'\n",
       "\n",
       "\n"
      ],
      "text/plain": [
       " [1] \"MSSubClass\"    \"MSZoning\"      \"LotShape\"      \"LandContour\"  \n",
       " [5] \"Utilities\"     \"LotConfig\"     \"LandSlope\"     \"Neighborhood\" \n",
       " [9] \"Condition1\"    \"Condition2\"    \"BldgType\"      \"HouseStyle\"   \n",
       "[13] \"Street\"        \"Alley\"         \"OverallQual\"   \"OverallCond\"  \n",
       "[17] \"RoofStyle\"     \"RoofMatl\"      \"Exterior1st\"   \"Exterior2nd\"  \n",
       "[21] \"MasVnrType\"    \"ExterQual\"     \"ExterCond\"     \"Foundation\"   \n",
       "[25] \"BsmtQual\"      \"BsmtCond\"      \"BsmtExposure\"  \"BsmtFinType1\" \n",
       "[29] \"BsmtFinType2\"  \"Heating\"       \"HeatingQC\"     \"CentralAir\"   \n",
       "[33] \"Electrical\"    \"BsmtFullBath\"  \"BsmtHalfBath\"  \"FullBath\"     \n",
       "[37] \"HalfBath\"      \"BedroomAbvGr\"  \"KitchenAbvGr\"  \"KitchenQual\"  \n",
       "[41] \"TotRmsAbvGrd\"  \"Functional\"    \"Fireplaces\"    \"FireplaceQu\"  \n",
       "[45] \"GarageType\"    \"GarageFinish\"  \"GarageCars\"    \"GarageQual\"   \n",
       "[49] \"GarageCond\"    \"PavedDrive\"    \"PoolQC\"        \"Fence\"        \n",
       "[53] \"MiscFeature\"   \"MoSold\"        \"SaleType\"      \"SaleCondition\""
      ]
     },
     "metadata": {},
     "output_type": "display_data"
    }
   ],
   "source": [
    "factor_features = colnames(Filter(is.factor, housing_df))\n",
    "factor_features"
   ]
  },
  {
   "cell_type": "code",
   "execution_count": 7,
   "metadata": {},
   "outputs": [],
   "source": [
    "attach(housing_df)"
   ]
  },
  {
   "cell_type": "markdown",
   "metadata": {},
   "source": [
    "## Normality Check"
   ]
  },
  {
   "cell_type": "markdown",
   "metadata": {},
   "source": [
    "### QQ-Plots\n",
    "\n",
    "The quantiles of a given data set are plotted against the quantiles of a reference distribution, typically the standard normal distribution."
   ]
  },
  {
   "cell_type": "code",
   "execution_count": 8,
   "metadata": {
    "scrolled": false
   },
   "outputs": [
    {
     "data": {
      "image/png": "[encoded data removed]",
      "text/plain": [
       "Plot with title “Normal Q-Q Plot”"
      ]
     },
     "metadata": {},
     "output_type": "display_data"
    }
   ],
   "source": [
    "qqnorm(SalePrice)\n",
    "qqline(SalePrice)"
   ]
  },
  {
   "cell_type": "markdown",
   "metadata": {},
   "source": [
    "### Tests for Normality"
   ]
  },
  {
   "cell_type": "markdown",
   "metadata": {},
   "source": [
    "The Shapiro–Wilk test tests the normality of a given distribution.\n",
    "\n",
    "The null-hypothesis of this test is that the population is normally distributed. Thus, if the p-value is less than the chosen alpha level, then the null hypothesis is rejected and there is evidence that the data tested are not from a normally distributed population; in other words, the data are not normal."
   ]
  },
  {
   "cell_type": "code",
   "execution_count": 9,
   "metadata": {
    "scrolled": true
   },
   "outputs": [
    {
     "data": {
      "text/plain": [
       "\n",
       "\tShapiro-Wilk normality test\n",
       "\n",
       "data:  SalePrice\n",
       "W = 0.86976, p-value < 2.2e-16\n"
      ]
     },
     "metadata": {},
     "output_type": "display_data"
    }
   ],
   "source": [
    "shapiro.test(SalePrice)"
   ]
  },
  {
   "cell_type": "markdown",
   "metadata": {},
   "source": [
    "## Hypothesis Tests in General"
   ]
  },
  {
   "cell_type": "markdown",
   "metadata": {},
   "source": [
    "1. A random sample is drawn from a population.\n",
    "1. A null hypothesis is formed e.g. there is no difference between the distribution of the population and the standard normal distribution.\n",
    "1. A test-statistic is calculated, one for which we know the probability distribution.\n",
    "1. Comparing the observed value of the statistic with the corresponding distribution, we can find the likelihood that a value as or more extreme than the observed on is found by random chance. This is the $p$-value.\n",
    "1. If the p-value is less then some number (usuall if $p < 0.05$, we reject the null hypothesis, and spea of a statistically significant difference. \n",
    "   - If a value of $P<0.001$ is obtained, the result is typically called *highly significant*. \n",
    "   - i.e. the $p$-value states how likely it is that we would obaint a value as extreme as we have *if the null hypothesis is true*."
   ]
  },
  {
   "cell_type": "markdown",
   "metadata": {},
   "source": [
    "# WARNING"
   ]
  },
  {
   "cell_type": "markdown",
   "metadata": {},
   "source": [
    "A value of $p<0.05$ for the null hypothesis has to be interpreted as follows: \n",
    "\n",
    "> *If the null hypothesis is true, the chance of a test statistic as or more extreme than the one observed is less than 5%*\n",
    "\n",
    "This is **not** the same as saying the that null hypothesis is false.\n",
    "\n",
    "This is **DEFINITELY NOT THE SAME** as saying that an alternative hypothesis is true."
   ]
  }
 ],
 "metadata": {
  "kernelspec": {
   "display_name": "R",
   "language": "R",
   "name": "ir"
  },
  "language_info": {
   "codemirror_mode": "r",
   "file_extension": ".r",
   "mimetype": "text/x-r-source",
   "name": "R",
   "pygments_lexer": "r",
   "version": "3.3.2"
  }
 },
 "nbformat": 4,
 "nbformat_minor": 2
}
