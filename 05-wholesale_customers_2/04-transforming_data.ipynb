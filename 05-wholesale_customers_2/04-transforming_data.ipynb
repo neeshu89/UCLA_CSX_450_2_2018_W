{
 "cells": [
  {
   "cell_type": "code",
   "execution_count": null,
   "metadata": {},
   "outputs": [],
   "source": [
    "import matplotlib.pyplot as plt\n",
    "import pandas as pd\n",
    "import numpy as np\n",
    "import seaborn as sns\n",
    "import scipy.stats as st\n",
    "\n",
    "from IPython.display import display\n",
    "%matplotlib inline"
   ]
  },
  {
   "cell_type": "code",
   "execution_count": null,
   "metadata": {},
   "outputs": [],
   "source": [
    "customer_df = pd.read_csv('Wholesale_customers_data.csv')\n",
    "customer_df.drop(['Channel', 'Region'], axis=1, inplace=True)"
   ]
  },
  {
   "cell_type": "code",
   "execution_count": null,
   "metadata": {},
   "outputs": [],
   "source": [
    "customer_samp_df = customer_df.sample(5)"
   ]
  },
  {
   "cell_type": "code",
   "execution_count": null,
   "metadata": {},
   "outputs": [],
   "source": [
    "samp_stats = customer_samp_df.describe().T\n",
    "samp_stats['skew'] = st.skew(customer_samp_df)\n",
    "samp_stats['kurt'] = st.kurtosis(customer_samp_df)\n",
    "samp_stats"
   ]
  },
  {
   "cell_type": "code",
   "execution_count": null,
   "metadata": {},
   "outputs": [],
   "source": [
    "stats = customer_df.describe().T\n",
    "stats['skew'] = st.skew(customer_df)\n",
    "stats['kurt'] = st.kurtosis(customer_df)\n",
    "stats"
   ]
  },
  {
   "cell_type": "markdown",
   "metadata": {},
   "source": [
    "---"
   ]
  },
  {
   "cell_type": "markdown",
   "metadata": {},
   "source": [
    "# MANY OF THE TOOLS WE WILL USE WILL ASSUME NORMAL DATA"
   ]
  },
  {
   "cell_type": "markdown",
   "metadata": {},
   "source": [
    "---"
   ]
  },
  {
   "cell_type": "markdown",
   "metadata": {},
   "source": [
    "You are already familiar with standardization."
   ]
  },
  {
   "cell_type": "markdown",
   "metadata": {},
   "source": [
    "## $$Z = \\frac{X-\\mu}{\\sigma}$$"
   ]
  },
  {
   "cell_type": "code",
   "execution_count": null,
   "metadata": {},
   "outputs": [],
   "source": [
    "from sklearn.preprocessing import StandardScaler"
   ]
  },
  {
   "cell_type": "code",
   "execution_count": null,
   "metadata": {},
   "outputs": [],
   "source": [
    "scaler = StandardScaler()\n",
    "customer_sc = scaler.fit_transform(customer_df)\n",
    "customer_sc_df = pd.DataFrame(customer_sc, columns=customer_df.columns)\n",
    "\n",
    "sc_stats = customer_sc_df.describe().T\n",
    "sc_stats['skew'] = st.skew(customer_sc_df)\n",
    "sc_stats['kurt'] = st.kurtosis(customer_sc_df)\n",
    "display(stats)\n",
    "display(sc_stats)"
   ]
  },
  {
   "cell_type": "markdown",
   "metadata": {},
   "source": [
    "# Visualizing the Data"
   ]
  },
  {
   "cell_type": "code",
   "execution_count": null,
   "metadata": {},
   "outputs": [],
   "source": [
    "fig = plt.figure(figsize=(20,6))\n",
    "for i, col in enumerate(customer_df.columns):\n",
    "    fig.add_subplot(231+i)\n",
    "    sns.distplot(customer_df[col], label=col)\n",
    "    plt.axvline(customer_df[col].mean(), c='red')\n",
    "    plt.axvline(customer_df[col].median(), c='black')\n",
    "    plt.legend()"
   ]
  },
  {
   "cell_type": "code",
   "execution_count": null,
   "metadata": {},
   "outputs": [],
   "source": [
    "fig = plt.figure(figsize=(20,6))\n",
    "for i, col in enumerate(customer_sc_df.columns):\n",
    "    fig.add_subplot(231+i)\n",
    "    sns.distplot(customer_sc_df[col], label=col)\n",
    "    plt.axvline(customer_sc_df[col].mean(), c='red')\n",
    "    plt.axvline(customer_sc_df[col].median(), c='black')\n",
    "    plt.legend()"
   ]
  },
  {
   "cell_type": "markdown",
   "metadata": {},
   "source": [
    "## MANY OF THE TOOLS WE WILL USE WILL ASSUME NORMAL DATA\n",
    "\n",
    "---"
   ]
  },
  {
   "cell_type": "markdown",
   "metadata": {},
   "source": [
    "# Deskew the Data"
   ]
  },
  {
   "cell_type": "markdown",
   "metadata": {},
   "source": [
    "We will look at two common approaches to deskewing data:\n",
    "\n",
    "- the log transform\n",
    "- scaling by the Box-Cox test\n",
    "\n",
    "For purposes of comparison, we will keep both transforms."
   ]
  },
  {
   "cell_type": "markdown",
   "metadata": {},
   "source": [
    "We have previously looked at scaling data as a preprocessing step. Note that scaling of data will have no effect on its skewness. "
   ]
  },
  {
   "cell_type": "markdown",
   "metadata": {},
   "source": [
    "Another way we can verify this is via a test of skewness.\n",
    "\n",
    "To perform this test we can use the `scipy.stats.skewtest`.\n",
    "\n",
    "This function tests the null hypothesis that the skewness of the population that the sample was drawn from is the same as that of a corresponding normal distribution. Remember, a low p-value means reject the null hypothesis i.e the data is skewed!\n"
   ]
  },
  {
   "cell_type": "code",
   "execution_count": null,
   "metadata": {},
   "outputs": [],
   "source": [
    "import scipy.stats as st"
   ]
  },
  {
   "cell_type": "code",
   "execution_count": null,
   "metadata": {},
   "outputs": [],
   "source": [
    "for col in customer_sc_df.columns:\n",
    "    original_col_skewtest = st.skewtest(customer_df[col])\n",
    "    scaled_col_skewtest = st.skewtest(customer_sc_df[col])\n",
    "    print(\"{}\\norig skew test: {} \\nscaled skew test: {}\\n\\n\".format(col, \n",
    "                                                                     original_col_skewtest,\n",
    "                                                                     scaled_col_skewtest))"
   ]
  },
  {
   "cell_type": "markdown",
   "metadata": {},
   "source": [
    "## Deskew by taking the log of the data"
   ]
  },
  {
   "cell_type": "markdown",
   "metadata": {},
   "source": [
    "Many times the skew of data can be easily removed by taking the log of the data. Let's do so here.\n",
    "\n",
    "We will then scale the data after deskewing."
   ]
  },
  {
   "cell_type": "code",
   "execution_count": null,
   "metadata": {},
   "outputs": [],
   "source": [
    "customer_log_df = np.log(customer_df)\n",
    "\n",
    "scaler.fit(customer_log_df)\n",
    "customer_log_sc = scaler.transform(customer_log_df)\n",
    "customer_log_sc_df = pd.DataFrame(customer_log_sc, columns=customer_df.columns)"
   ]
  },
  {
   "cell_type": "code",
   "execution_count": null,
   "metadata": {},
   "outputs": [],
   "source": [
    "for col in customer_log_df.columns:\n",
    "    original_col_skewtest = st.skewtest(customer_df[col])\n",
    "    scaled_col_skewtest = st.skewtest(customer_sc_df[col])\n",
    "    original_log_col_skewtest = st.skewtest(customer_log_df[col])\n",
    "    scaled_log_col_skewtest = st.skewtest(customer_log_sc_df[col])\n",
    "    print(\"\"\"{}\n",
    "    orig:       {} \n",
    "    scaled:     {}\n",
    "    orig log:   {}\n",
    "    scaled log: {}\n",
    "    \n",
    "    \"\"\".format(col, \n",
    "               original_col_skewtest,\n",
    "               scaled_col_skewtest, \n",
    "               original_log_col_skewtest,\n",
    "               scaled_log_col_skewtest))"
   ]
  },
  {
   "cell_type": "code",
   "execution_count": null,
   "metadata": {},
   "outputs": [],
   "source": [
    "fig = plt.figure(figsize=(20,6))\n",
    "for i, col in enumerate(customer_sc_df.columns):\n",
    "    fig.add_subplot(231+i)\n",
    "    sns.distplot(customer_sc_df[col], label=col)\n",
    "    plt.axvline(customer_sc_df[col].mean(), c='red')\n",
    "    plt.axvline(customer_sc_df[col].median(), c='black')\n",
    "    plt.legend()"
   ]
  },
  {
   "cell_type": "code",
   "execution_count": null,
   "metadata": {},
   "outputs": [],
   "source": [
    "fig = plt.figure(figsize=(20,6))\n",
    "for i, col in enumerate(customer_log_sc_df.columns):\n",
    "    fig.add_subplot(231+i)\n",
    "    sns.distplot(customer_log_sc_df[col], label=col)\n",
    "    plt.axvline(customer_log_sc_df[col].mean(), c='red')\n",
    "    plt.axvline(customer_log_sc_df[col].median(), c='black')\n",
    "    plt.legend()"
   ]
  },
  {
   "cell_type": "code",
   "execution_count": null,
   "metadata": {},
   "outputs": [],
   "source": [
    "customer_log_sc_df.to_pickle('final_log_sc.p')"
   ]
  },
  {
   "cell_type": "markdown",
   "metadata": {},
   "source": [
    "---"
   ]
  },
  {
   "cell_type": "markdown",
   "metadata": {},
   "source": [
    "## Deskew by Box-Cox Test"
   ]
  },
  {
   "cell_type": "markdown",
   "metadata": {},
   "source": [
    "The box cox test works by identifying the optimum power, $\\lambda$ to raise the data where\n",
    "\n",
    "$$\\mathbf{x_i}' = \\frac{\\mathbf{x_i}^\\lambda -1}{\\lambda}$$"
   ]
  },
  {
   "cell_type": "markdown",
   "metadata": {},
   "source": [
    "![](https://www.evernote.com/l/AAFyfeEXifNCb6PDsM7FKA6-EZIKf9MQBsgB/image.png)"
   ]
  },
  {
   "cell_type": "code",
   "execution_count": null,
   "metadata": {},
   "outputs": [],
   "source": [
    "customer_box_cox_df = pd.DataFrame()\n",
    "for col in customer_df.columns:\n",
    "    box_cox_trans = st.boxcox(customer_df[col])[0]\n",
    "    customer_box_cox_df[col] = pd.Series(box_cox_trans)"
   ]
  },
  {
   "cell_type": "code",
   "execution_count": null,
   "metadata": {},
   "outputs": [],
   "source": [
    "scaler.fit(customer_box_cox_df)\n",
    "customer_box_cox_sc = scaler.transform(customer_box_cox_df)\n",
    "customer_box_cox_sc_df = pd.DataFrame(customer_box_cox_sc, columns=customer_df.columns)"
   ]
  },
  {
   "cell_type": "code",
   "execution_count": null,
   "metadata": {},
   "outputs": [],
   "source": [
    "for col in customer_log_df.columns:\n",
    "    original_col_skewtest = st.skewtest(customer_df[col])\n",
    "    scaled_col_skewtest = st.skewtest(customer_sc_df[col])\n",
    "    original_log_col_skewtest = st.skewtest(customer_log_df[col])\n",
    "    scaled_log_col_skewtest = st.skewtest(customer_log_sc_df[col])\n",
    "    original_box_cox_col_skewtest = st.skewtest(customer_box_cox_df[col])\n",
    "    scaled_box_cox_col_skewtest = st.skewtest(customer_box_cox_sc_df[col])\n",
    "    print(\"\"\"{}\n",
    "    orig:           {} \n",
    "    scaled:         {}\n",
    "    orig log:       {}\n",
    "    scaled log:     {}\n",
    "    orig box-cox:   {}\n",
    "    scaled box-cox: {}\n",
    "    \n",
    "    \"\"\".format(col, \n",
    "               original_col_skewtest,\n",
    "               scaled_col_skewtest, \n",
    "               original_log_col_skewtest,\n",
    "               scaled_log_col_skewtest, \n",
    "               original_box_cox_col_skewtest,\n",
    "               scaled_box_cox_col_skewtest))"
   ]
  },
  {
   "cell_type": "code",
   "execution_count": null,
   "metadata": {
    "scrolled": true
   },
   "outputs": [],
   "source": [
    "fig = plt.figure(figsize=(20,6))\n",
    "for i, col in enumerate(customer_box_cox_sc_df.columns):\n",
    "    fig.add_subplot(231+i)\n",
    "    sns.distplot(customer_box_cox_sc_df[col], label=col)\n",
    "    plt.axvline(customer_box_cox_sc_df[col].mean(), c='red')\n",
    "    plt.axvline(customer_box_cox_sc_df[col].median(), c='black')\n",
    "    plt.legend()"
   ]
  },
  {
   "cell_type": "code",
   "execution_count": null,
   "metadata": {},
   "outputs": [],
   "source": [
    "customer_box_cox_sc_df.to_pickle('final_box_cox_sc.p')"
   ]
  },
  {
   "cell_type": "code",
   "execution_count": null,
   "metadata": {},
   "outputs": [],
   "source": []
  }
 ],
 "metadata": {
  "kernelspec": {
   "display_name": "Python 3",
   "language": "python",
   "name": "python3"
  },
  "language_info": {
   "codemirror_mode": {
    "name": "ipython",
    "version": 3
   },
   "file_extension": ".py",
   "mimetype": "text/x-python",
   "name": "python",
   "nbconvert_exporter": "python",
   "pygments_lexer": "ipython3",
   "version": "3.6.3"
  }
 },
 "nbformat": 4,
 "nbformat_minor": 2
}
