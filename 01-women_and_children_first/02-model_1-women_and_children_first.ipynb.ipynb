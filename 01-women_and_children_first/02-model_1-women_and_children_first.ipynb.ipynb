{
 "cells": [
  {
   "cell_type": "markdown",
   "metadata": {},
   "source": [
    "## Domain\n",
    "\n",
    "This is an introductory data set considered the \"hello world\" of data science. It is an ongoing competition on Kaggle allowing students of data science to prepare a model and make a submission to a competition while they are still learning the subject. "
   ]
  },
  {
   "cell_type": "markdown",
   "metadata": {},
   "source": [
    "## Problem\n",
    "\n",
    "This is a binary classification problem in which the challenge is to predict whether a passenger survived the sinking of the Titanic given the demographic data of the passengers. Here, the task $T$ is a binary classification and the experience $E$ is the list of passengers and their survival outcome. "
   ]
  },
  {
   "cell_type": "markdown",
   "metadata": {},
   "source": [
    "Note `read.table` and `read.csv` are equivalent accept for the default args. `read.table` defaults to separating on white space. `read.csv` defaults to separating on commas."
   ]
  },
  {
   "cell_type": "markdown",
   "metadata": {},
   "source": [
    "## Solution\n",
    "\n",
    "To solve this problem, we will generate a vector of integers using filtering and masking."
   ]
  },
  {
   "cell_type": "code",
   "execution_count": 1,
   "metadata": {},
   "outputs": [],
   "source": [
    "titanic <- read.table('train.csv', sep=\",\", header = T)\n",
    "rownames(titanic) <- titanic$PassengerId\n",
    "titanic$PassengerId <- NULL\n",
    "titanic$Name <- NULL"
   ]
  },
  {
   "cell_type": "markdown",
   "metadata": {},
   "source": [
    "## Data Exploration"
   ]
  },
  {
   "cell_type": "code",
   "execution_count": 3,
   "metadata": {},
   "outputs": [
    {
     "data": {
      "text/html": [
       "<dl class=dl-horizontal>\n",
       "\t<dt>female</dt>\n",
       "\t\t<dd>314</dd>\n",
       "\t<dt>male</dt>\n",
       "\t\t<dd>577</dd>\n",
       "</dl>\n"
      ],
      "text/latex": [
       "\\begin{description*}\n",
       "\\item[female] 314\n",
       "\\item[male] 577\n",
       "\\end{description*}\n"
      ],
      "text/markdown": [
       "female\n",
       ":   314male\n",
       ":   577\n",
       "\n"
      ],
      "text/plain": [
       "female   male \n",
       "   314    577 "
      ]
     },
     "metadata": {},
     "output_type": "display_data"
    }
   ],
   "source": [
    "summary(titanic$Sex)"
   ]
  },
  {
   "cell_type": "markdown",
   "metadata": {},
   "source": [
    "### Use a Proporation Table to Look at Survival by Gender"
   ]
  },
  {
   "cell_type": "markdown",
   "metadata": {},
   "source": [
    "This represents the proportion of all passengers in each group."
   ]
  },
  {
   "cell_type": "code",
   "execution_count": 4,
   "metadata": {
    "scrolled": false
   },
   "outputs": [
    {
     "data": {
      "text/plain": [
       "        \n",
       "                  0          1\n",
       "  female 0.09090909 0.26150393\n",
       "  male   0.52525253 0.12233446"
      ]
     },
     "metadata": {},
     "output_type": "display_data"
    }
   ],
   "source": [
    "prop.table(table(titanic$Sex, titanic$Survived))"
   ]
  },
  {
   "cell_type": "markdown",
   "metadata": {},
   "source": [
    "This represents the proportion of survival by gender."
   ]
  },
  {
   "cell_type": "code",
   "execution_count": 5,
   "metadata": {},
   "outputs": [
    {
     "data": {
      "text/plain": [
       "        \n",
       "                 0         1\n",
       "  female 0.2579618 0.7420382\n",
       "  male   0.8110919 0.1889081"
      ]
     },
     "metadata": {},
     "output_type": "display_data"
    }
   ],
   "source": [
    "prop.table(table(titanic$Sex, titanic$Survived), 1)\n",
    "# adding a 1 means the rows add up to 1"
   ]
  },
  {
   "cell_type": "markdown",
   "metadata": {},
   "source": [
    "This represents the proportion of gender by survival."
   ]
  },
  {
   "cell_type": "code",
   "execution_count": 8,
   "metadata": {},
   "outputs": [
    {
     "data": {
      "text/plain": [
       "        \n",
       "                 0         1\n",
       "  female 0.1475410 0.6812865\n",
       "  male   0.8524590 0.3187135"
      ]
     },
     "metadata": {},
     "output_type": "display_data"
    }
   ],
   "source": [
    "prop.table(table(titanic$Sex, titanic$Survived), 2)\n",
    "# adding a 2 means the columns add up to 1"
   ]
  },
  {
   "cell_type": "markdown",
   "metadata": {},
   "source": [
    "### Use a Proporation Table to Look at Survival of Children"
   ]
  },
  {
   "cell_type": "code",
   "execution_count": 9,
   "metadata": {
    "scrolled": true
   },
   "outputs": [
    {
     "data": {
      "text/plain": [
       "       \n",
       "                0         1\n",
       "  FALSE 0.6134969 0.3865031\n",
       "  TRUE  0.3870968 0.6129032"
      ]
     },
     "metadata": {},
     "output_type": "display_data"
    }
   ],
   "source": [
    "prop.table(table(titanic$Age < 10, titanic$Survived), 1)"
   ]
  },
  {
   "cell_type": "code",
   "execution_count": 10,
   "metadata": {},
   "outputs": [
    {
     "data": {
      "text/plain": [
       "       \n",
       "                 0          1\n",
       "  FALSE 0.94339623 0.86896552\n",
       "  TRUE  0.05660377 0.13103448"
      ]
     },
     "metadata": {},
     "output_type": "display_data"
    }
   ],
   "source": [
    "prop.table(table(titanic$Age < 10, titanic$Survived), 2)"
   ]
  },
  {
   "cell_type": "markdown",
   "metadata": {},
   "source": [
    "## Benchmark Model"
   ]
  },
  {
   "cell_type": "code",
   "execution_count": 11,
   "metadata": {},
   "outputs": [],
   "source": [
    "verify_length <- function (v1, v2 ){\n",
    "    if (length(v1) != length(v2)) {\n",
    "        stop('length of vectors do not match') \n",
    "    }\n",
    "}\n",
    "\n",
    "accuracy <- function (actual, predicted) {\n",
    "    verify_length(actual, predicted)\n",
    "    return(sum(actual == predicted)/length(actual))\n",
    "}"
   ]
  },
  {
   "cell_type": "code",
   "execution_count": 12,
   "metadata": {
    "scrolled": true
   },
   "outputs": [
    {
     "data": {
      "text/html": [
       "0.616161616161616"
      ],
      "text/latex": [
       "0.616161616161616"
      ],
      "text/markdown": [
       "0.616161616161616"
      ],
      "text/plain": [
       "[1] 0.6161616"
      ]
     },
     "metadata": {},
     "output_type": "display_data"
    }
   ],
   "source": [
    "no_survivors <- rep(0, length(titanic$Survived))\n",
    "accuracy(titanic$Survived, no_survivors)"
   ]
  },
  {
   "cell_type": "markdown",
   "metadata": {},
   "source": [
    "## Women Survived"
   ]
  },
  {
   "cell_type": "code",
   "execution_count": 13,
   "metadata": {},
   "outputs": [
    {
     "data": {
      "text/html": [
       "0.78675645342312"
      ],
      "text/latex": [
       "0.78675645342312"
      ],
      "text/markdown": [
       "0.78675645342312"
      ],
      "text/plain": [
       "[1] 0.7867565"
      ]
     },
     "metadata": {},
     "output_type": "display_data"
    }
   ],
   "source": [
    "women_survived <- titanic$Sex == 'female'\n",
    "accuracy(titanic$Survived, women_survived)"
   ]
  },
  {
   "cell_type": "markdown",
   "metadata": {},
   "source": [
    "## Children Survived"
   ]
  },
  {
   "cell_type": "code",
   "execution_count": 14,
   "metadata": {},
   "outputs": [],
   "source": [
    "women_and_children_survived <- women_survived\n",
    "women_and_children_survived[titanic$Age < 10] <- 1"
   ]
  },
  {
   "cell_type": "code",
   "execution_count": 15,
   "metadata": {},
   "outputs": [
    {
     "data": {
      "text/html": [
       "0.793490460157127"
      ],
      "text/latex": [
       "0.793490460157127"
      ],
      "text/markdown": [
       "0.793490460157127"
      ],
      "text/plain": [
       "[1] 0.7934905"
      ]
     },
     "metadata": {},
     "output_type": "display_data"
    }
   ],
   "source": [
    "accuracy(titanic$Survived, women_and_children_survived)"
   ]
  },
  {
   "cell_type": "code",
   "execution_count": 17,
   "metadata": {},
   "outputs": [
    {
     "data": {
      "text/html": [
       "<table>\n",
       "<thead><tr><th scope=col>Survived</th><th scope=col>Pclass</th><th scope=col>Sex</th><th scope=col>Age</th><th scope=col>SibSp</th><th scope=col>Parch</th><th scope=col>Ticket</th><th scope=col>Fare</th><th scope=col>Cabin</th><th scope=col>Embarked</th></tr></thead>\n",
       "<tbody>\n",
       "\t<tr><td>0               </td><td>3               </td><td>male            </td><td>22              </td><td>1               </td><td>0               </td><td>A/5 21171       </td><td> 7.2500         </td><td>                </td><td>S               </td></tr>\n",
       "\t<tr><td>1               </td><td>1               </td><td>female          </td><td>38              </td><td>1               </td><td>0               </td><td>PC 17599        </td><td>71.2833         </td><td>C85             </td><td>C               </td></tr>\n",
       "\t<tr><td>1               </td><td>3               </td><td>female          </td><td>26              </td><td>0               </td><td>0               </td><td>STON/O2. 3101282</td><td> 7.9250         </td><td>                </td><td>S               </td></tr>\n",
       "\t<tr><td>1               </td><td>1               </td><td>female          </td><td>35              </td><td>1               </td><td>0               </td><td>113803          </td><td>53.1000         </td><td>C123            </td><td>S               </td></tr>\n",
       "\t<tr><td>0               </td><td>3               </td><td>male            </td><td>35              </td><td>0               </td><td>0               </td><td>373450          </td><td> 8.0500         </td><td>                </td><td>S               </td></tr>\n",
       "\t<tr><td>0               </td><td>3               </td><td>male            </td><td>NA              </td><td>0               </td><td>0               </td><td>330877          </td><td> 8.4583         </td><td>                </td><td>Q               </td></tr>\n",
       "</tbody>\n",
       "</table>\n"
      ],
      "text/latex": [
       "\\begin{tabular}{r|llllllllll}\n",
       " Survived & Pclass & Sex & Age & SibSp & Parch & Ticket & Fare & Cabin & Embarked\\\\\n",
       "\\hline\n",
       "\t 0                & 3                & male             & 22               & 1                & 0                & A/5 21171        &  7.2500          &                  & S               \\\\\n",
       "\t 1                & 1                & female           & 38               & 1                & 0                & PC 17599         & 71.2833          & C85              & C               \\\\\n",
       "\t 1                & 3                & female           & 26               & 0                & 0                & STON/O2. 3101282 &  7.9250          &                  & S               \\\\\n",
       "\t 1                & 1                & female           & 35               & 1                & 0                & 113803           & 53.1000          & C123             & S               \\\\\n",
       "\t 0                & 3                & male             & 35               & 0                & 0                & 373450           &  8.0500          &                  & S               \\\\\n",
       "\t 0                & 3                & male             & NA               & 0                & 0                & 330877           &  8.4583          &                  & Q               \\\\\n",
       "\\end{tabular}\n"
      ],
      "text/markdown": [
       "\n",
       "Survived | Pclass | Sex | Age | SibSp | Parch | Ticket | Fare | Cabin | Embarked | \n",
       "|---|---|---|---|---|---|\n",
       "| 0                | 3                | male             | 22               | 1                | 0                | A/5 21171        |  7.2500          |                  | S                | \n",
       "| 1                | 1                | female           | 38               | 1                | 0                | PC 17599         | 71.2833          | C85              | C                | \n",
       "| 1                | 3                | female           | 26               | 0                | 0                | STON/O2. 3101282 |  7.9250          |                  | S                | \n",
       "| 1                | 1                | female           | 35               | 1                | 0                | 113803           | 53.1000          | C123             | S                | \n",
       "| 0                | 3                | male             | 35               | 0                | 0                | 373450           |  8.0500          |                  | S                | \n",
       "| 0                | 3                | male             | NA               | 0                | 0                | 330877           |  8.4583          |                  | Q                | \n",
       "\n",
       "\n"
      ],
      "text/plain": [
       "  Survived Pclass Sex    Age SibSp Parch Ticket           Fare    Cabin\n",
       "1 0        3      male   22  1     0     A/5 21171         7.2500      \n",
       "2 1        1      female 38  1     0     PC 17599         71.2833 C85  \n",
       "3 1        3      female 26  0     0     STON/O2. 3101282  7.9250      \n",
       "4 1        1      female 35  1     0     113803           53.1000 C123 \n",
       "5 0        3      male   35  0     0     373450            8.0500      \n",
       "6 0        3      male   NA  0     0     330877            8.4583      \n",
       "  Embarked\n",
       "1 S       \n",
       "2 C       \n",
       "3 S       \n",
       "4 S       \n",
       "5 S       \n",
       "6 Q       "
      ]
     },
     "metadata": {},
     "output_type": "display_data"
    }
   ],
   "source": [
    "head(titanic)"
   ]
  },
  {
   "cell_type": "code",
   "execution_count": 18,
   "metadata": {},
   "outputs": [
    {
     "data": {
      "text/plain": [
       "   \n",
       "             0          1\n",
       "  1 0.08978676 0.15263749\n",
       "  2 0.10886644 0.09764310\n",
       "  3 0.41750842 0.13355780"
      ]
     },
     "metadata": {},
     "output_type": "display_data"
    }
   ],
   "source": [
    "prop.table(table(titanic$Pclass, titanic$Survived))"
   ]
  },
  {
   "cell_type": "code",
   "execution_count": 19,
   "metadata": {},
   "outputs": [
    {
     "data": {
      "text/plain": [
       "   \n",
       "            0         1\n",
       "  1 0.3703704 0.6296296\n",
       "  2 0.5271739 0.4728261\n",
       "  3 0.7576375 0.2423625"
      ]
     },
     "metadata": {},
     "output_type": "display_data"
    }
   ],
   "source": [
    "prop.table(table(titanic$Pclass, titanic$Survived),1)"
   ]
  },
  {
   "cell_type": "code",
   "execution_count": 20,
   "metadata": {},
   "outputs": [],
   "source": [
    "Pclass_survived = titanic$Pclass == 1\n",
    "women_and_children_survived <- Pclass_survived"
   ]
  },
  {
   "cell_type": "code",
   "execution_count": 21,
   "metadata": {},
   "outputs": [
    {
     "data": {
      "text/html": [
       "0.679012345679012"
      ],
      "text/latex": [
       "0.679012345679012"
      ],
      "text/markdown": [
       "0.679012345679012"
      ],
      "text/plain": [
       "[1] 0.6790123"
      ]
     },
     "metadata": {},
     "output_type": "display_data"
    }
   ],
   "source": [
    "accuracy(titanic$Survived, women_and_children_survived)"
   ]
  },
  {
   "cell_type": "code",
   "execution_count": 23,
   "metadata": {},
   "outputs": [],
   "source": [
    "titanic$genderclass <- paste(titanic$Sex,titanic$Pclass)"
   ]
  },
  {
   "cell_type": "code",
   "execution_count": 24,
   "metadata": {},
   "outputs": [
    {
     "data": {
      "text/html": [
       "<table>\n",
       "<thead><tr><th scope=col>Survived</th><th scope=col>Pclass</th><th scope=col>Sex</th><th scope=col>Age</th><th scope=col>SibSp</th><th scope=col>Parch</th><th scope=col>Ticket</th><th scope=col>Fare</th><th scope=col>Cabin</th><th scope=col>Embarked</th><th scope=col>genderclass</th></tr></thead>\n",
       "<tbody>\n",
       "\t<tr><td>0               </td><td>3               </td><td>male            </td><td>22              </td><td>1               </td><td>0               </td><td>A/5 21171       </td><td> 7.2500         </td><td>                </td><td>S               </td><td>male 3          </td></tr>\n",
       "\t<tr><td>1               </td><td>1               </td><td>female          </td><td>38              </td><td>1               </td><td>0               </td><td>PC 17599        </td><td>71.2833         </td><td>C85             </td><td>C               </td><td>female 1        </td></tr>\n",
       "\t<tr><td>1               </td><td>3               </td><td>female          </td><td>26              </td><td>0               </td><td>0               </td><td>STON/O2. 3101282</td><td> 7.9250         </td><td>                </td><td>S               </td><td>female 3        </td></tr>\n",
       "\t<tr><td>1               </td><td>1               </td><td>female          </td><td>35              </td><td>1               </td><td>0               </td><td>113803          </td><td>53.1000         </td><td>C123            </td><td>S               </td><td>female 1        </td></tr>\n",
       "\t<tr><td>0               </td><td>3               </td><td>male            </td><td>35              </td><td>0               </td><td>0               </td><td>373450          </td><td> 8.0500         </td><td>                </td><td>S               </td><td>male 3          </td></tr>\n",
       "\t<tr><td>0               </td><td>3               </td><td>male            </td><td>NA              </td><td>0               </td><td>0               </td><td>330877          </td><td> 8.4583         </td><td>                </td><td>Q               </td><td>male 3          </td></tr>\n",
       "</tbody>\n",
       "</table>\n"
      ],
      "text/latex": [
       "\\begin{tabular}{r|lllllllllll}\n",
       " Survived & Pclass & Sex & Age & SibSp & Parch & Ticket & Fare & Cabin & Embarked & genderclass\\\\\n",
       "\\hline\n",
       "\t 0                & 3                & male             & 22               & 1                & 0                & A/5 21171        &  7.2500          &                  & S                & male 3          \\\\\n",
       "\t 1                & 1                & female           & 38               & 1                & 0                & PC 17599         & 71.2833          & C85              & C                & female 1        \\\\\n",
       "\t 1                & 3                & female           & 26               & 0                & 0                & STON/O2. 3101282 &  7.9250          &                  & S                & female 3        \\\\\n",
       "\t 1                & 1                & female           & 35               & 1                & 0                & 113803           & 53.1000          & C123             & S                & female 1        \\\\\n",
       "\t 0                & 3                & male             & 35               & 0                & 0                & 373450           &  8.0500          &                  & S                & male 3          \\\\\n",
       "\t 0                & 3                & male             & NA               & 0                & 0                & 330877           &  8.4583          &                  & Q                & male 3          \\\\\n",
       "\\end{tabular}\n"
      ],
      "text/markdown": [
       "\n",
       "Survived | Pclass | Sex | Age | SibSp | Parch | Ticket | Fare | Cabin | Embarked | genderclass | \n",
       "|---|---|---|---|---|---|\n",
       "| 0                | 3                | male             | 22               | 1                | 0                | A/5 21171        |  7.2500          |                  | S                | male 3           | \n",
       "| 1                | 1                | female           | 38               | 1                | 0                | PC 17599         | 71.2833          | C85              | C                | female 1         | \n",
       "| 1                | 3                | female           | 26               | 0                | 0                | STON/O2. 3101282 |  7.9250          |                  | S                | female 3         | \n",
       "| 1                | 1                | female           | 35               | 1                | 0                | 113803           | 53.1000          | C123             | S                | female 1         | \n",
       "| 0                | 3                | male             | 35               | 0                | 0                | 373450           |  8.0500          |                  | S                | male 3           | \n",
       "| 0                | 3                | male             | NA               | 0                | 0                | 330877           |  8.4583          |                  | Q                | male 3           | \n",
       "\n",
       "\n"
      ],
      "text/plain": [
       "  Survived Pclass Sex    Age SibSp Parch Ticket           Fare    Cabin\n",
       "1 0        3      male   22  1     0     A/5 21171         7.2500      \n",
       "2 1        1      female 38  1     0     PC 17599         71.2833 C85  \n",
       "3 1        3      female 26  0     0     STON/O2. 3101282  7.9250      \n",
       "4 1        1      female 35  1     0     113803           53.1000 C123 \n",
       "5 0        3      male   35  0     0     373450            8.0500      \n",
       "6 0        3      male   NA  0     0     330877            8.4583      \n",
       "  Embarked genderclass\n",
       "1 S        male 3     \n",
       "2 C        female 1   \n",
       "3 S        female 3   \n",
       "4 S        female 1   \n",
       "5 S        male 3     \n",
       "6 Q        male 3     "
      ]
     },
     "metadata": {},
     "output_type": "display_data"
    }
   ],
   "source": [
    "head(titanic)"
   ]
  },
  {
   "cell_type": "code",
   "execution_count": 25,
   "metadata": {},
   "outputs": [
    {
     "data": {
      "text/plain": [
       "          \n",
       "                    0          1\n",
       "  female 1 0.03191489 0.96808511\n",
       "  female 2 0.07894737 0.92105263\n",
       "  female 3 0.50000000 0.50000000\n",
       "  male 1   0.63114754 0.36885246\n",
       "  male 2   0.84259259 0.15740741\n",
       "  male 3   0.86455331 0.13544669"
      ]
     },
     "metadata": {},
     "output_type": "display_data"
    }
   ],
   "source": [
    "prop.table(table(titanic$genderclass, titanic$Survived),1)"
   ]
  },
  {
   "cell_type": "code",
   "execution_count": 26,
   "metadata": {},
   "outputs": [],
   "source": [
    "women_and_children_survived = 0"
   ]
  },
  {
   "cell_type": "code",
   "execution_count": 27,
   "metadata": {},
   "outputs": [],
   "source": [
    "women_and_children_survived = titanic$genderclass == 'female 1'\n",
    "women_and_children_survived = titanic$genderclass == 'female 2'\n",
    "women_and_children_survived[titanic$Age < 10] = 1"
   ]
  },
  {
   "cell_type": "code",
   "execution_count": 28,
   "metadata": {},
   "outputs": [
    {
     "data": {
      "text/html": [
       "0.694725028058361"
      ],
      "text/latex": [
       "0.694725028058361"
      ],
      "text/markdown": [
       "0.694725028058361"
      ],
      "text/plain": [
       "[1] 0.694725"
      ]
     },
     "metadata": {},
     "output_type": "display_data"
    }
   ],
   "source": [
    "accuracy(titanic$Survived, women_and_children_survived)"
   ]
  },
  {
   "cell_type": "code",
   "execution_count": 75,
   "metadata": {},
   "outputs": [],
   "source": [
    "women_and_children_survived = 0"
   ]
  },
  {
   "cell_type": "code",
   "execution_count": 76,
   "metadata": {},
   "outputs": [],
   "source": [
    "women_and_children_survived[titanic$genderclass == 'female 1'] = 1\n",
    "women_and_children_survived[titanic$genderclass == 'female 2'] = 1\n",
    "women_and_children_survived[titanic$genderclass == 'female 3'] = 0\n",
    "women_and_children_survived[titanic$Age < 9] = 1\n",
    "women_and_children_survived[is.na(women_and_children_survived)] = 0"
   ]
  },
  {
   "cell_type": "code",
   "execution_count": 77,
   "metadata": {},
   "outputs": [
    {
     "data": {
      "text/html": [
       "0.799102132435466"
      ],
      "text/latex": [
       "0.799102132435466"
      ],
      "text/markdown": [
       "0.799102132435466"
      ],
      "text/plain": [
       "[1] 0.7991021"
      ]
     },
     "metadata": {},
     "output_type": "display_data"
    }
   ],
   "source": [
    "accuracy(titanic$Survived, women_and_children_survived)"
   ]
  },
  {
   "cell_type": "code",
   "execution_count": 56,
   "metadata": {},
   "outputs": [
    {
     "name": "stdout",
     "output_type": "stream",
     "text": [
      "0 0 0 0 0 0 0 0 0 0 0 0 0 0 0 0 0 0 0 0 0 0 0 0 0 0 0 1 0 0 0 0 0 0 0 0 0 0 0 0 0 0 0 0 0 0 0 0 0 0 0 0 0 0 0 1 0 0 0 0 0 0 0 0 1 0 0 0 0 0 0 0 0 0 0 0 0 0 0 0 0 0 0 0 0 0 0 0 0 0 0 0 0 0 0 0 0 0 0 0 0 0 0 0 0 0 0 0 0 0 0 0 0 0 0 0 0 0 0 0 0 0 0 0 0 0 0 0 0 0 0 0 0 0 0 0 0 0 0 0 0 0 0 0 0 0 0 0 0 0 0 0 0 0 0 0 0 0 0 0 0 0 0 0 0 0 0 0 1 0 0 0 0 0 0 0 0 0 0 0 0 0 0 0 0 1 0 0 0 0 0 0 0 0 0 0 0 0 0 0 0 0 0 0 0 0 0 0 0 0 0 0 0 0 0 0 0 0 0 0 0 0 0 0 0 0 0 0 0 0 0 0 0 0 0 0 0 0 0 0 0 0 0 0 0 0 0 0 0 0 0 0 0 0 0 0 0 0 0 0 0 0 0 0 0 0 0 0 0 0 1 0 0 0 0 0 0 0 0 0 0 0 0 0 1 0 0 0 0 0 0 0 0 0 0 1 0 0 1 0 0 0 0 0 0 1 0 0 0 0 0 0 0 0 0 0 0 0 0 0 0 0 0 0 0 0 0 0 0 0 0 0 0 0 0 0 0 0 0 0 0 0 0 0 0 0 0 0 0 0 0 1 0 0 0 0 0 0 0 0 0 0 0 0 0 0 0 0 0 0 0 0 0 0 0 0 0 0 0 0 0 0 0 0 0 0 0 0 0 0 0 0 0 0 0 0 0 0 0 0 0 0 0 0 0 0 0 0 0 0 0 0 0 0 0 0 0 0 0 0 0 0 0 0 0 0 0 0 0 0 0 0 0 0 0 0 0 0 0 0 0 0 0 0 0 1 0 0 0 0 0 0 0 0 0 0 0 0 0 0 0 0 0 0 0 0 0 0 0 0 0 0 0 0 0 1 0 0 0 0 0 0 0 0 0 0 0 0 0 0 0 0 0 0 0 0 0 0 0 0 0 0 0 0 0 1 0 1 0 0 0 0 0 0 0 0 0 0 0 0 0 0 0 0 0 0 0 1 0 0 0 0 0 0 0 0 0 0 0 0 0 0 0 0 0 0 0 0 0 0 1 0 0 0 0 0 0 1 0 0 0 0 0 0 0 0 0 0 0 0 0 0 0 0 0 0 0 0 0 0 0 0 0 0 0 0 0 0 0 0 0 0 0 0 0 0 0 0 0 0 0 0 1 0 0 0 0 0 0 0 0 0 0 0 0 0 0 0 0 0 0 0 0 0 0 0 0 0 0 0 0 0 0 1 0 0 0 0 0 0 0 0 0 0 0 0 0 0 0 0 0 0 0 0 0 0 0 0 0 0 0 0 0 0 0 0 0 0 0 0 0 0 0 0 0 0 0 0 0 0 0 0 0 0 0 0 0 0 0 0 0 0 0 0 0 0 0 0 0 0 0 0 0 0 0 0 0 0 0 0 0 1 0 0 0 0 0 0 0 0 0 0 0 0 0 0 0 0 0 0 0 0 0 0 0 0 0 0 0 0 1 0 0 0 0 0 0 0 1 0 0 0 0 0 0 0 0 0 0 0 0 0 0 0 0 0 1 0 0 0 0 0 0 0 0 0 0 0 0 0 0 0 0 0 0 0 0 0 0 0 0 0 0 1 0 0 0 0 0 0 0 0 1 0 0 0 0 0 0 0 0 0 0 0 0 1 0 0 0 0 0 0 0 0 0 0 0 0 0 0 0 0 0 0 0 0 0 0 0 1 0 0 0 0 0 0 0 0 0 0 0 0 0 0 0 0 0 0 0 0 0 0 0 0 0 0 0 0 0 0 0 0 0 0 0 0 0 0 0 0 0 0 0 0 0 0 0 0 0 0 0"
     ]
    }
   ],
   "source": [
    "youngrichmensurvived = 0\n",
    "youngrichmensurvived = (titanic$genderclass == 'male 1' & titanic$Age < 20)\n",
    "youngrichmensurvived[is.na(youngrichmensurvived)] = 1\n",
    "cat(youngrichmensurvived)"
   ]
  },
  {
   "cell_type": "code",
   "execution_count": 57,
   "metadata": {},
   "outputs": [
    {
     "data": {
      "text/html": [
       "0.604938271604938"
      ],
      "text/latex": [
       "0.604938271604938"
      ],
      "text/markdown": [
       "0.604938271604938"
      ],
      "text/plain": [
       "[1] 0.6049383"
      ]
     },
     "metadata": {},
     "output_type": "display_data"
    }
   ],
   "source": [
    "women_and_children_survived = youngrichmensurvived\n",
    "accuracy(titanic$Survived, women_and_children_survived)"
   ]
  },
  {
   "cell_type": "code",
   "execution_count": 58,
   "metadata": {},
   "outputs": [
    {
     "data": {
      "text/html": [
       "<table>\n",
       "<thead><tr><th scope=col>Survived</th><th scope=col>Pclass</th><th scope=col>Sex</th><th scope=col>Age</th><th scope=col>SibSp</th><th scope=col>Parch</th><th scope=col>Ticket</th><th scope=col>Fare</th><th scope=col>Cabin</th><th scope=col>Embarked</th><th scope=col>genderclass</th></tr></thead>\n",
       "<tbody>\n",
       "\t<tr><td>0               </td><td>3               </td><td>male            </td><td>22              </td><td>1               </td><td>0               </td><td>A/5 21171       </td><td>  7.2500        </td><td>                </td><td>S               </td><td>male 3          </td></tr>\n",
       "\t<tr><td>1               </td><td>1               </td><td>female          </td><td>38              </td><td>1               </td><td>0               </td><td>PC 17599        </td><td> 71.2833        </td><td>C85             </td><td>C               </td><td>female 1        </td></tr>\n",
       "\t<tr><td>1               </td><td>3               </td><td>female          </td><td>26              </td><td>0               </td><td>0               </td><td>STON/O2. 3101282</td><td>  7.9250        </td><td>                </td><td>S               </td><td>female 3        </td></tr>\n",
       "\t<tr><td>1               </td><td>1               </td><td>female          </td><td>35              </td><td>1               </td><td>0               </td><td>113803          </td><td> 53.1000        </td><td>C123            </td><td>S               </td><td>female 1        </td></tr>\n",
       "\t<tr><td>0               </td><td>3               </td><td>male            </td><td>35              </td><td>0               </td><td>0               </td><td>373450          </td><td>  8.0500        </td><td>                </td><td>S               </td><td>male 3          </td></tr>\n",
       "\t<tr><td>0               </td><td>3               </td><td>male            </td><td>NA              </td><td>0               </td><td>0               </td><td>330877          </td><td>  8.4583        </td><td>                </td><td>Q               </td><td>male 3          </td></tr>\n",
       "\t<tr><td>0               </td><td>1               </td><td>male            </td><td>54              </td><td>0               </td><td>0               </td><td>17463           </td><td> 51.8625        </td><td>E46             </td><td>S               </td><td>male 1          </td></tr>\n",
       "\t<tr><td>0               </td><td>3               </td><td>male            </td><td> 2              </td><td>3               </td><td>1               </td><td>349909          </td><td> 21.0750        </td><td>                </td><td>S               </td><td>male 3          </td></tr>\n",
       "\t<tr><td>1               </td><td>3               </td><td>female          </td><td>27              </td><td>0               </td><td>2               </td><td>347742          </td><td> 11.1333        </td><td>                </td><td>S               </td><td>female 3        </td></tr>\n",
       "\t<tr><td>1               </td><td>2               </td><td>female          </td><td>14              </td><td>1               </td><td>0               </td><td>237736          </td><td> 30.0708        </td><td>                </td><td>C               </td><td>female 2        </td></tr>\n",
       "\t<tr><td>1               </td><td>3               </td><td>female          </td><td> 4              </td><td>1               </td><td>1               </td><td>PP 9549         </td><td> 16.7000        </td><td>G6              </td><td>S               </td><td>female 3        </td></tr>\n",
       "\t<tr><td>1               </td><td>1               </td><td>female          </td><td>58              </td><td>0               </td><td>0               </td><td>113783          </td><td> 26.5500        </td><td>C103            </td><td>S               </td><td>female 1        </td></tr>\n",
       "\t<tr><td>0               </td><td>3               </td><td>male            </td><td>20              </td><td>0               </td><td>0               </td><td>A/5. 2151       </td><td>  8.0500        </td><td>                </td><td>S               </td><td>male 3          </td></tr>\n",
       "\t<tr><td>0               </td><td>3               </td><td>male            </td><td>39              </td><td>1               </td><td>5               </td><td>347082          </td><td> 31.2750        </td><td>                </td><td>S               </td><td>male 3          </td></tr>\n",
       "\t<tr><td>0               </td><td>3               </td><td>female          </td><td>14              </td><td>0               </td><td>0               </td><td>350406          </td><td>  7.8542        </td><td>                </td><td>S               </td><td>female 3        </td></tr>\n",
       "\t<tr><td>1               </td><td>2               </td><td>female          </td><td>55              </td><td>0               </td><td>0               </td><td>248706          </td><td> 16.0000        </td><td>                </td><td>S               </td><td>female 2        </td></tr>\n",
       "\t<tr><td>0               </td><td>3               </td><td>male            </td><td> 2              </td><td>4               </td><td>1               </td><td>382652          </td><td> 29.1250        </td><td>                </td><td>Q               </td><td>male 3          </td></tr>\n",
       "\t<tr><td>1               </td><td>2               </td><td>male            </td><td>NA              </td><td>0               </td><td>0               </td><td>244373          </td><td> 13.0000        </td><td>                </td><td>S               </td><td>male 2          </td></tr>\n",
       "\t<tr><td>0               </td><td>3               </td><td>female          </td><td>31              </td><td>1               </td><td>0               </td><td>345763          </td><td> 18.0000        </td><td>                </td><td>S               </td><td>female 3        </td></tr>\n",
       "\t<tr><td>1               </td><td>3               </td><td>female          </td><td>NA              </td><td>0               </td><td>0               </td><td>2649            </td><td>  7.2250        </td><td>                </td><td>C               </td><td>female 3        </td></tr>\n",
       "\t<tr><td>0               </td><td>2               </td><td>male            </td><td>35              </td><td>0               </td><td>0               </td><td>239865          </td><td> 26.0000        </td><td>                </td><td>S               </td><td>male 2          </td></tr>\n",
       "\t<tr><td>1               </td><td>2               </td><td>male            </td><td>34              </td><td>0               </td><td>0               </td><td>248698          </td><td> 13.0000        </td><td>D56             </td><td>S               </td><td>male 2          </td></tr>\n",
       "\t<tr><td>1               </td><td>3               </td><td>female          </td><td>15              </td><td>0               </td><td>0               </td><td>330923          </td><td>  8.0292        </td><td>                </td><td>Q               </td><td>female 3        </td></tr>\n",
       "\t<tr><td>1               </td><td>1               </td><td>male            </td><td>28              </td><td>0               </td><td>0               </td><td>113788          </td><td> 35.5000        </td><td>A6              </td><td>S               </td><td>male 1          </td></tr>\n",
       "\t<tr><td>0               </td><td>3               </td><td>female          </td><td> 8              </td><td>3               </td><td>1               </td><td>349909          </td><td> 21.0750        </td><td>                </td><td>S               </td><td>female 3        </td></tr>\n",
       "\t<tr><td>1               </td><td>3               </td><td>female          </td><td>38              </td><td>1               </td><td>5               </td><td>347077          </td><td> 31.3875        </td><td>                </td><td>S               </td><td>female 3        </td></tr>\n",
       "\t<tr><td>0               </td><td>3               </td><td>male            </td><td>NA              </td><td>0               </td><td>0               </td><td>2631            </td><td>  7.2250        </td><td>                </td><td>C               </td><td>male 3          </td></tr>\n",
       "\t<tr><td>0               </td><td>1               </td><td>male            </td><td>19              </td><td>3               </td><td>2               </td><td>19950           </td><td>263.0000        </td><td>C23 C25 C27     </td><td>S               </td><td>male 1          </td></tr>\n",
       "</tbody>\n",
       "</table>\n"
      ],
      "text/latex": [
       "\\begin{tabular}{r|lllllllllll}\n",
       " Survived & Pclass & Sex & Age & SibSp & Parch & Ticket & Fare & Cabin & Embarked & genderclass\\\\\n",
       "\\hline\n",
       "\t 0                & 3                & male             & 22               & 1                & 0                & A/5 21171        &   7.2500         &                  & S                & male 3          \\\\\n",
       "\t 1                & 1                & female           & 38               & 1                & 0                & PC 17599         &  71.2833         & C85              & C                & female 1        \\\\\n",
       "\t 1                & 3                & female           & 26               & 0                & 0                & STON/O2. 3101282 &   7.9250         &                  & S                & female 3        \\\\\n",
       "\t 1                & 1                & female           & 35               & 1                & 0                & 113803           &  53.1000         & C123             & S                & female 1        \\\\\n",
       "\t 0                & 3                & male             & 35               & 0                & 0                & 373450           &   8.0500         &                  & S                & male 3          \\\\\n",
       "\t 0                & 3                & male             & NA               & 0                & 0                & 330877           &   8.4583         &                  & Q                & male 3          \\\\\n",
       "\t 0                & 1                & male             & 54               & 0                & 0                & 17463            &  51.8625         & E46              & S                & male 1          \\\\\n",
       "\t 0                & 3                & male             &  2               & 3                & 1                & 349909           &  21.0750         &                  & S                & male 3          \\\\\n",
       "\t 1                & 3                & female           & 27               & 0                & 2                & 347742           &  11.1333         &                  & S                & female 3        \\\\\n",
       "\t 1                & 2                & female           & 14               & 1                & 0                & 237736           &  30.0708         &                  & C                & female 2        \\\\\n",
       "\t 1                & 3                & female           &  4               & 1                & 1                & PP 9549          &  16.7000         & G6               & S                & female 3        \\\\\n",
       "\t 1                & 1                & female           & 58               & 0                & 0                & 113783           &  26.5500         & C103             & S                & female 1        \\\\\n",
       "\t 0                & 3                & male             & 20               & 0                & 0                & A/5. 2151        &   8.0500         &                  & S                & male 3          \\\\\n",
       "\t 0                & 3                & male             & 39               & 1                & 5                & 347082           &  31.2750         &                  & S                & male 3          \\\\\n",
       "\t 0                & 3                & female           & 14               & 0                & 0                & 350406           &   7.8542         &                  & S                & female 3        \\\\\n",
       "\t 1                & 2                & female           & 55               & 0                & 0                & 248706           &  16.0000         &                  & S                & female 2        \\\\\n",
       "\t 0                & 3                & male             &  2               & 4                & 1                & 382652           &  29.1250         &                  & Q                & male 3          \\\\\n",
       "\t 1                & 2                & male             & NA               & 0                & 0                & 244373           &  13.0000         &                  & S                & male 2          \\\\\n",
       "\t 0                & 3                & female           & 31               & 1                & 0                & 345763           &  18.0000         &                  & S                & female 3        \\\\\n",
       "\t 1                & 3                & female           & NA               & 0                & 0                & 2649             &   7.2250         &                  & C                & female 3        \\\\\n",
       "\t 0                & 2                & male             & 35               & 0                & 0                & 239865           &  26.0000         &                  & S                & male 2          \\\\\n",
       "\t 1                & 2                & male             & 34               & 0                & 0                & 248698           &  13.0000         & D56              & S                & male 2          \\\\\n",
       "\t 1                & 3                & female           & 15               & 0                & 0                & 330923           &   8.0292         &                  & Q                & female 3        \\\\\n",
       "\t 1                & 1                & male             & 28               & 0                & 0                & 113788           &  35.5000         & A6               & S                & male 1          \\\\\n",
       "\t 0                & 3                & female           &  8               & 3                & 1                & 349909           &  21.0750         &                  & S                & female 3        \\\\\n",
       "\t 1                & 3                & female           & 38               & 1                & 5                & 347077           &  31.3875         &                  & S                & female 3        \\\\\n",
       "\t 0                & 3                & male             & NA               & 0                & 0                & 2631             &   7.2250         &                  & C                & male 3          \\\\\n",
       "\t 0                & 1                & male             & 19               & 3                & 2                & 19950            & 263.0000         & C23 C25 C27      & S                & male 1          \\\\\n",
       "\\end{tabular}\n"
      ],
      "text/markdown": [
       "\n",
       "Survived | Pclass | Sex | Age | SibSp | Parch | Ticket | Fare | Cabin | Embarked | genderclass | \n",
       "|---|---|---|---|---|---|---|---|---|---|---|---|---|---|---|---|---|---|---|---|---|---|---|---|---|---|---|---|\n",
       "| 0                | 3                | male             | 22               | 1                | 0                | A/5 21171        |   7.2500         |                  | S                | male 3           | \n",
       "| 1                | 1                | female           | 38               | 1                | 0                | PC 17599         |  71.2833         | C85              | C                | female 1         | \n",
       "| 1                | 3                | female           | 26               | 0                | 0                | STON/O2. 3101282 |   7.9250         |                  | S                | female 3         | \n",
       "| 1                | 1                | female           | 35               | 1                | 0                | 113803           |  53.1000         | C123             | S                | female 1         | \n",
       "| 0                | 3                | male             | 35               | 0                | 0                | 373450           |   8.0500         |                  | S                | male 3           | \n",
       "| 0                | 3                | male             | NA               | 0                | 0                | 330877           |   8.4583         |                  | Q                | male 3           | \n",
       "| 0                | 1                | male             | 54               | 0                | 0                | 17463            |  51.8625         | E46              | S                | male 1           | \n",
       "| 0                | 3                | male             |  2               | 3                | 1                | 349909           |  21.0750         |                  | S                | male 3           | \n",
       "| 1                | 3                | female           | 27               | 0                | 2                | 347742           |  11.1333         |                  | S                | female 3         | \n",
       "| 1                | 2                | female           | 14               | 1                | 0                | 237736           |  30.0708         |                  | C                | female 2         | \n",
       "| 1                | 3                | female           |  4               | 1                | 1                | PP 9549          |  16.7000         | G6               | S                | female 3         | \n",
       "| 1                | 1                | female           | 58               | 0                | 0                | 113783           |  26.5500         | C103             | S                | female 1         | \n",
       "| 0                | 3                | male             | 20               | 0                | 0                | A/5. 2151        |   8.0500         |                  | S                | male 3           | \n",
       "| 0                | 3                | male             | 39               | 1                | 5                | 347082           |  31.2750         |                  | S                | male 3           | \n",
       "| 0                | 3                | female           | 14               | 0                | 0                | 350406           |   7.8542         |                  | S                | female 3         | \n",
       "| 1                | 2                | female           | 55               | 0                | 0                | 248706           |  16.0000         |                  | S                | female 2         | \n",
       "| 0                | 3                | male             |  2               | 4                | 1                | 382652           |  29.1250         |                  | Q                | male 3           | \n",
       "| 1                | 2                | male             | NA               | 0                | 0                | 244373           |  13.0000         |                  | S                | male 2           | \n",
       "| 0                | 3                | female           | 31               | 1                | 0                | 345763           |  18.0000         |                  | S                | female 3         | \n",
       "| 1                | 3                | female           | NA               | 0                | 0                | 2649             |   7.2250         |                  | C                | female 3         | \n",
       "| 0                | 2                | male             | 35               | 0                | 0                | 239865           |  26.0000         |                  | S                | male 2           | \n",
       "| 1                | 2                | male             | 34               | 0                | 0                | 248698           |  13.0000         | D56              | S                | male 2           | \n",
       "| 1                | 3                | female           | 15               | 0                | 0                | 330923           |   8.0292         |                  | Q                | female 3         | \n",
       "| 1                | 1                | male             | 28               | 0                | 0                | 113788           |  35.5000         | A6               | S                | male 1           | \n",
       "| 0                | 3                | female           |  8               | 3                | 1                | 349909           |  21.0750         |                  | S                | female 3         | \n",
       "| 1                | 3                | female           | 38               | 1                | 5                | 347077           |  31.3875         |                  | S                | female 3         | \n",
       "| 0                | 3                | male             | NA               | 0                | 0                | 2631             |   7.2250         |                  | C                | male 3           | \n",
       "| 0                | 1                | male             | 19               | 3                | 2                | 19950            | 263.0000         | C23 C25 C27      | S                | male 1           | \n",
       "\n",
       "\n"
      ],
      "text/plain": [
       "   Survived Pclass Sex    Age SibSp Parch Ticket           Fare     Cabin      \n",
       "1  0        3      male   22  1     0     A/5 21171          7.2500            \n",
       "2  1        1      female 38  1     0     PC 17599          71.2833 C85        \n",
       "3  1        3      female 26  0     0     STON/O2. 3101282   7.9250            \n",
       "4  1        1      female 35  1     0     113803            53.1000 C123       \n",
       "5  0        3      male   35  0     0     373450             8.0500            \n",
       "6  0        3      male   NA  0     0     330877             8.4583            \n",
       "7  0        1      male   54  0     0     17463             51.8625 E46        \n",
       "8  0        3      male    2  3     1     349909            21.0750            \n",
       "9  1        3      female 27  0     2     347742            11.1333            \n",
       "10 1        2      female 14  1     0     237736            30.0708            \n",
       "11 1        3      female  4  1     1     PP 9549           16.7000 G6         \n",
       "12 1        1      female 58  0     0     113783            26.5500 C103       \n",
       "13 0        3      male   20  0     0     A/5. 2151          8.0500            \n",
       "14 0        3      male   39  1     5     347082            31.2750            \n",
       "15 0        3      female 14  0     0     350406             7.8542            \n",
       "16 1        2      female 55  0     0     248706            16.0000            \n",
       "17 0        3      male    2  4     1     382652            29.1250            \n",
       "18 1        2      male   NA  0     0     244373            13.0000            \n",
       "19 0        3      female 31  1     0     345763            18.0000            \n",
       "20 1        3      female NA  0     0     2649               7.2250            \n",
       "21 0        2      male   35  0     0     239865            26.0000            \n",
       "22 1        2      male   34  0     0     248698            13.0000 D56        \n",
       "23 1        3      female 15  0     0     330923             8.0292            \n",
       "24 1        1      male   28  0     0     113788            35.5000 A6         \n",
       "25 0        3      female  8  3     1     349909            21.0750            \n",
       "26 1        3      female 38  1     5     347077            31.3875            \n",
       "27 0        3      male   NA  0     0     2631               7.2250            \n",
       "28 0        1      male   19  3     2     19950            263.0000 C23 C25 C27\n",
       "   Embarked genderclass\n",
       "1  S        male 3     \n",
       "2  C        female 1   \n",
       "3  S        female 3   \n",
       "4  S        female 1   \n",
       "5  S        male 3     \n",
       "6  Q        male 3     \n",
       "7  S        male 1     \n",
       "8  S        male 3     \n",
       "9  S        female 3   \n",
       "10 C        female 2   \n",
       "11 S        female 3   \n",
       "12 S        female 1   \n",
       "13 S        male 3     \n",
       "14 S        male 3     \n",
       "15 S        female 3   \n",
       "16 S        female 2   \n",
       "17 Q        male 3     \n",
       "18 S        male 2     \n",
       "19 S        female 3   \n",
       "20 C        female 3   \n",
       "21 S        male 2     \n",
       "22 S        male 2     \n",
       "23 Q        female 3   \n",
       "24 S        male 1     \n",
       "25 S        female 3   \n",
       "26 S        female 3   \n",
       "27 C        male 3     \n",
       "28 S        male 1     "
      ]
     },
     "metadata": {},
     "output_type": "display_data"
    }
   ],
   "source": [
    "head(titanic, 28)"
   ]
  },
  {
   "cell_type": "code",
   "execution_count": 65,
   "metadata": {},
   "outputs": [
    {
     "data": {
      "text/html": [
       "<table>\n",
       "<thead><tr><th></th><th scope=col>Survived</th><th scope=col>Pclass</th><th scope=col>Sex</th><th scope=col>Age</th><th scope=col>SibSp</th><th scope=col>Parch</th><th scope=col>Ticket</th><th scope=col>Fare</th><th scope=col>Cabin</th><th scope=col>Embarked</th><th scope=col>genderclass</th></tr></thead>\n",
       "<tbody>\n",
       "\t<tr><th scope=row>28</th><td> 0         </td><td> 1         </td><td>male       </td><td>19.00      </td><td> 3         </td><td> 2         </td><td>19950      </td><td>263.0000   </td><td>C23 C25 C27</td><td>S          </td><td>male 1     </td></tr>\n",
       "\t<tr><th scope=row>NA</th><td>NA         </td><td>NA         </td><td>NA         </td><td>   NA      </td><td>NA         </td><td>NA         </td><td>NA         </td><td>      NA   </td><td>NA         </td><td>NA         </td><td>NA         </td></tr>\n",
       "\t<tr><th scope=row>NA.1</th><td>NA         </td><td>NA         </td><td>NA         </td><td>   NA      </td><td>NA         </td><td>NA         </td><td>NA         </td><td>      NA   </td><td>NA         </td><td>NA         </td><td>NA         </td></tr>\n",
       "\t<tr><th scope=row>NA.2</th><td>NA         </td><td>NA         </td><td>NA         </td><td>   NA      </td><td>NA         </td><td>NA         </td><td>NA         </td><td>      NA   </td><td>NA         </td><td>NA         </td><td>NA         </td></tr>\n",
       "\t<tr><th scope=row>NA.3</th><td>NA         </td><td>NA         </td><td>NA         </td><td>   NA      </td><td>NA         </td><td>NA         </td><td>NA         </td><td>      NA   </td><td>NA         </td><td>NA         </td><td>NA         </td></tr>\n",
       "\t<tr><th scope=row>NA.4</th><td>NA         </td><td>NA         </td><td>NA         </td><td>   NA      </td><td>NA         </td><td>NA         </td><td>NA         </td><td>      NA   </td><td>NA         </td><td>NA         </td><td>NA         </td></tr>\n",
       "\t<tr><th scope=row>NA.5</th><td>NA         </td><td>NA         </td><td>NA         </td><td>   NA      </td><td>NA         </td><td>NA         </td><td>NA         </td><td>      NA   </td><td>NA         </td><td>NA         </td><td>NA         </td></tr>\n",
       "\t<tr><th scope=row>NA.6</th><td>NA         </td><td>NA         </td><td>NA         </td><td>   NA      </td><td>NA         </td><td>NA         </td><td>NA         </td><td>      NA   </td><td>NA         </td><td>NA         </td><td>NA         </td></tr>\n",
       "\t<tr><th scope=row>NA.7</th><td>NA         </td><td>NA         </td><td>NA         </td><td>   NA      </td><td>NA         </td><td>NA         </td><td>NA         </td><td>      NA   </td><td>NA         </td><td>NA         </td><td>NA         </td></tr>\n",
       "\t<tr><th scope=row>306</th><td> 1         </td><td> 1         </td><td>male       </td><td> 0.92      </td><td> 1         </td><td> 2         </td><td>113781     </td><td>151.5500   </td><td>C22 C26    </td><td>S          </td><td>male 1     </td></tr>\n",
       "\t<tr><th scope=row>NA.8</th><td>NA         </td><td>NA         </td><td>NA         </td><td>   NA      </td><td>NA         </td><td>NA         </td><td>NA         </td><td>      NA   </td><td>NA         </td><td>NA         </td><td>NA         </td></tr>\n",
       "\t<tr><th scope=row>446</th><td> 1         </td><td> 1         </td><td>male       </td><td> 4.00      </td><td> 0         </td><td> 2         </td><td>33638      </td><td> 81.8583   </td><td>A34        </td><td>S          </td><td>male 1     </td></tr>\n",
       "\t<tr><th scope=row>NA.9</th><td>NA         </td><td>NA         </td><td>NA         </td><td>   NA      </td><td>NA         </td><td>NA         </td><td>NA         </td><td>      NA   </td><td>NA         </td><td>NA         </td><td>NA         </td></tr>\n",
       "\t<tr><th scope=row>506</th><td> 0         </td><td> 1         </td><td>male       </td><td>18.00      </td><td> 1         </td><td> 0         </td><td>PC 17758   </td><td>108.9000   </td><td>C65        </td><td>C          </td><td>male 1     </td></tr>\n",
       "\t<tr><th scope=row>NA.10</th><td>NA         </td><td>NA         </td><td>NA         </td><td>   NA      </td><td>NA         </td><td>NA         </td><td>NA         </td><td>      NA   </td><td>NA         </td><td>NA         </td><td>NA         </td></tr>\n",
       "\t<tr><th scope=row>NA.11</th><td>NA         </td><td>NA         </td><td>NA         </td><td>   NA      </td><td>NA         </td><td>NA         </td><td>NA         </td><td>      NA   </td><td>NA         </td><td>NA         </td><td>NA         </td></tr>\n",
       "\t<tr><th scope=row>551</th><td> 1         </td><td> 1         </td><td>male       </td><td>17.00      </td><td> 0         </td><td> 2         </td><td>17421      </td><td>110.8833   </td><td>C70        </td><td>C          </td><td>male 1     </td></tr>\n",
       "\t<tr><th scope=row>NA.12</th><td>NA         </td><td>NA         </td><td>NA         </td><td>   NA      </td><td>NA         </td><td>NA         </td><td>NA         </td><td>      NA   </td><td>NA         </td><td>NA         </td><td>NA         </td></tr>\n",
       "\t<tr><th scope=row>NA.13</th><td>NA         </td><td>NA         </td><td>NA         </td><td>   NA      </td><td>NA         </td><td>NA         </td><td>NA         </td><td>      NA   </td><td>NA         </td><td>NA         </td><td>NA         </td></tr>\n",
       "\t<tr><th scope=row>NA.14</th><td>NA         </td><td>NA         </td><td>NA         </td><td>   NA      </td><td>NA         </td><td>NA         </td><td>NA         </td><td>      NA   </td><td>NA         </td><td>NA         </td><td>NA         </td></tr>\n",
       "\t<tr><th scope=row>NA.15</th><td>NA         </td><td>NA         </td><td>NA         </td><td>   NA      </td><td>NA         </td><td>NA         </td><td>NA         </td><td>      NA   </td><td>NA         </td><td>NA         </td><td>NA         </td></tr>\n",
       "\t<tr><th scope=row>NA.16</th><td>NA         </td><td>NA         </td><td>NA         </td><td>   NA      </td><td>NA         </td><td>NA         </td><td>NA         </td><td>      NA   </td><td>NA         </td><td>NA         </td><td>NA         </td></tr>\n",
       "\t<tr><th scope=row>749</th><td> 0         </td><td> 1         </td><td>male       </td><td>19.00      </td><td> 1         </td><td> 0         </td><td>113773     </td><td> 53.1000   </td><td>D30        </td><td>S          </td><td>male 1     </td></tr>\n",
       "\t<tr><th scope=row>NA.17</th><td>NA         </td><td>NA         </td><td>NA         </td><td>   NA      </td><td>NA         </td><td>NA         </td><td>NA         </td><td>      NA   </td><td>NA         </td><td>NA         </td><td>NA         </td></tr>\n",
       "\t<tr><th scope=row>NA.18</th><td>NA         </td><td>NA         </td><td>NA         </td><td>   NA      </td><td>NA         </td><td>NA         </td><td>NA         </td><td>      NA   </td><td>NA         </td><td>NA         </td><td>NA         </td></tr>\n",
       "\t<tr><th scope=row>803</th><td> 1         </td><td> 1         </td><td>male       </td><td>11.00      </td><td> 1         </td><td> 2         </td><td>113760     </td><td>120.0000   </td><td>B96 B98    </td><td>S          </td><td>male 1     </td></tr>\n",
       "\t<tr><th scope=row>NA.19</th><td>NA         </td><td>NA         </td><td>NA         </td><td>   NA      </td><td>NA         </td><td>NA         </td><td>NA         </td><td>      NA   </td><td>NA         </td><td>NA         </td><td>NA         </td></tr>\n",
       "\t<tr><th scope=row>NA.20</th><td>NA         </td><td>NA         </td><td>NA         </td><td>   NA      </td><td>NA         </td><td>NA         </td><td>NA         </td><td>      NA   </td><td>NA         </td><td>NA         </td><td>NA         </td></tr>\n",
       "</tbody>\n",
       "</table>\n"
      ],
      "text/latex": [
       "\\begin{tabular}{r|lllllllllll}\n",
       "  & Survived & Pclass & Sex & Age & SibSp & Parch & Ticket & Fare & Cabin & Embarked & genderclass\\\\\n",
       "\\hline\n",
       "\t28 &  0          &  1          & male        & 19.00       &  3          &  2          & 19950       & 263.0000    & C23 C25 C27 & S           & male 1     \\\\\n",
       "\tNA & NA          & NA          & NA          &    NA       & NA          & NA          & NA          &       NA    & NA          & NA          & NA         \\\\\n",
       "\tNA.1 & NA          & NA          & NA          &    NA       & NA          & NA          & NA          &       NA    & NA          & NA          & NA         \\\\\n",
       "\tNA.2 & NA          & NA          & NA          &    NA       & NA          & NA          & NA          &       NA    & NA          & NA          & NA         \\\\\n",
       "\tNA.3 & NA          & NA          & NA          &    NA       & NA          & NA          & NA          &       NA    & NA          & NA          & NA         \\\\\n",
       "\tNA.4 & NA          & NA          & NA          &    NA       & NA          & NA          & NA          &       NA    & NA          & NA          & NA         \\\\\n",
       "\tNA.5 & NA          & NA          & NA          &    NA       & NA          & NA          & NA          &       NA    & NA          & NA          & NA         \\\\\n",
       "\tNA.6 & NA          & NA          & NA          &    NA       & NA          & NA          & NA          &       NA    & NA          & NA          & NA         \\\\\n",
       "\tNA.7 & NA          & NA          & NA          &    NA       & NA          & NA          & NA          &       NA    & NA          & NA          & NA         \\\\\n",
       "\t306 &  1          &  1          & male        &  0.92       &  1          &  2          & 113781      & 151.5500    & C22 C26     & S           & male 1     \\\\\n",
       "\tNA.8 & NA          & NA          & NA          &    NA       & NA          & NA          & NA          &       NA    & NA          & NA          & NA         \\\\\n",
       "\t446 &  1          &  1          & male        &  4.00       &  0          &  2          & 33638       &  81.8583    & A34         & S           & male 1     \\\\\n",
       "\tNA.9 & NA          & NA          & NA          &    NA       & NA          & NA          & NA          &       NA    & NA          & NA          & NA         \\\\\n",
       "\t506 &  0          &  1          & male        & 18.00       &  1          &  0          & PC 17758    & 108.9000    & C65         & C           & male 1     \\\\\n",
       "\tNA.10 & NA          & NA          & NA          &    NA       & NA          & NA          & NA          &       NA    & NA          & NA          & NA         \\\\\n",
       "\tNA.11 & NA          & NA          & NA          &    NA       & NA          & NA          & NA          &       NA    & NA          & NA          & NA         \\\\\n",
       "\t551 &  1          &  1          & male        & 17.00       &  0          &  2          & 17421       & 110.8833    & C70         & C           & male 1     \\\\\n",
       "\tNA.12 & NA          & NA          & NA          &    NA       & NA          & NA          & NA          &       NA    & NA          & NA          & NA         \\\\\n",
       "\tNA.13 & NA          & NA          & NA          &    NA       & NA          & NA          & NA          &       NA    & NA          & NA          & NA         \\\\\n",
       "\tNA.14 & NA          & NA          & NA          &    NA       & NA          & NA          & NA          &       NA    & NA          & NA          & NA         \\\\\n",
       "\tNA.15 & NA          & NA          & NA          &    NA       & NA          & NA          & NA          &       NA    & NA          & NA          & NA         \\\\\n",
       "\tNA.16 & NA          & NA          & NA          &    NA       & NA          & NA          & NA          &       NA    & NA          & NA          & NA         \\\\\n",
       "\t749 &  0          &  1          & male        & 19.00       &  1          &  0          & 113773      &  53.1000    & D30         & S           & male 1     \\\\\n",
       "\tNA.17 & NA          & NA          & NA          &    NA       & NA          & NA          & NA          &       NA    & NA          & NA          & NA         \\\\\n",
       "\tNA.18 & NA          & NA          & NA          &    NA       & NA          & NA          & NA          &       NA    & NA          & NA          & NA         \\\\\n",
       "\t803 &  1          &  1          & male        & 11.00       &  1          &  2          & 113760      & 120.0000    & B96 B98     & S           & male 1     \\\\\n",
       "\tNA.19 & NA          & NA          & NA          &    NA       & NA          & NA          & NA          &       NA    & NA          & NA          & NA         \\\\\n",
       "\tNA.20 & NA          & NA          & NA          &    NA       & NA          & NA          & NA          &       NA    & NA          & NA          & NA         \\\\\n",
       "\\end{tabular}\n"
      ],
      "text/markdown": [
       "\n",
       "| <!--/--> | Survived | Pclass | Sex | Age | SibSp | Parch | Ticket | Fare | Cabin | Embarked | genderclass | \n",
       "|---|---|---|---|---|---|---|---|---|---|---|---|---|---|---|---|---|---|---|---|---|---|---|---|---|---|---|---|\n",
       "| 28 |  0          |  1          | male        | 19.00       |  3          |  2          | 19950       | 263.0000    | C23 C25 C27 | S           | male 1      | \n",
       "| NA | NA          | NA          | NA          |    NA       | NA          | NA          | NA          |       NA    | NA          | NA          | NA          | \n",
       "| NA.1 | NA          | NA          | NA          |    NA       | NA          | NA          | NA          |       NA    | NA          | NA          | NA          | \n",
       "| NA.2 | NA          | NA          | NA          |    NA       | NA          | NA          | NA          |       NA    | NA          | NA          | NA          | \n",
       "| NA.3 | NA          | NA          | NA          |    NA       | NA          | NA          | NA          |       NA    | NA          | NA          | NA          | \n",
       "| NA.4 | NA          | NA          | NA          |    NA       | NA          | NA          | NA          |       NA    | NA          | NA          | NA          | \n",
       "| NA.5 | NA          | NA          | NA          |    NA       | NA          | NA          | NA          |       NA    | NA          | NA          | NA          | \n",
       "| NA.6 | NA          | NA          | NA          |    NA       | NA          | NA          | NA          |       NA    | NA          | NA          | NA          | \n",
       "| NA.7 | NA          | NA          | NA          |    NA       | NA          | NA          | NA          |       NA    | NA          | NA          | NA          | \n",
       "| 306 |  1          |  1          | male        |  0.92       |  1          |  2          | 113781      | 151.5500    | C22 C26     | S           | male 1      | \n",
       "| NA.8 | NA          | NA          | NA          |    NA       | NA          | NA          | NA          |       NA    | NA          | NA          | NA          | \n",
       "| 446 |  1          |  1          | male        |  4.00       |  0          |  2          | 33638       |  81.8583    | A34         | S           | male 1      | \n",
       "| NA.9 | NA          | NA          | NA          |    NA       | NA          | NA          | NA          |       NA    | NA          | NA          | NA          | \n",
       "| 506 |  0          |  1          | male        | 18.00       |  1          |  0          | PC 17758    | 108.9000    | C65         | C           | male 1      | \n",
       "| NA.10 | NA          | NA          | NA          |    NA       | NA          | NA          | NA          |       NA    | NA          | NA          | NA          | \n",
       "| NA.11 | NA          | NA          | NA          |    NA       | NA          | NA          | NA          |       NA    | NA          | NA          | NA          | \n",
       "| 551 |  1          |  1          | male        | 17.00       |  0          |  2          | 17421       | 110.8833    | C70         | C           | male 1      | \n",
       "| NA.12 | NA          | NA          | NA          |    NA       | NA          | NA          | NA          |       NA    | NA          | NA          | NA          | \n",
       "| NA.13 | NA          | NA          | NA          |    NA       | NA          | NA          | NA          |       NA    | NA          | NA          | NA          | \n",
       "| NA.14 | NA          | NA          | NA          |    NA       | NA          | NA          | NA          |       NA    | NA          | NA          | NA          | \n",
       "| NA.15 | NA          | NA          | NA          |    NA       | NA          | NA          | NA          |       NA    | NA          | NA          | NA          | \n",
       "| NA.16 | NA          | NA          | NA          |    NA       | NA          | NA          | NA          |       NA    | NA          | NA          | NA          | \n",
       "| 749 |  0          |  1          | male        | 19.00       |  1          |  0          | 113773      |  53.1000    | D30         | S           | male 1      | \n",
       "| NA.17 | NA          | NA          | NA          |    NA       | NA          | NA          | NA          |       NA    | NA          | NA          | NA          | \n",
       "| NA.18 | NA          | NA          | NA          |    NA       | NA          | NA          | NA          |       NA    | NA          | NA          | NA          | \n",
       "| 803 |  1          |  1          | male        | 11.00       |  1          |  2          | 113760      | 120.0000    | B96 B98     | S           | male 1      | \n",
       "| NA.19 | NA          | NA          | NA          |    NA       | NA          | NA          | NA          |       NA    | NA          | NA          | NA          | \n",
       "| NA.20 | NA          | NA          | NA          |    NA       | NA          | NA          | NA          |       NA    | NA          | NA          | NA          | \n",
       "\n",
       "\n"
      ],
      "text/plain": [
       "      Survived Pclass Sex  Age   SibSp Parch Ticket   Fare     Cabin      \n",
       "28     0        1     male 19.00  3     2    19950    263.0000 C23 C25 C27\n",
       "NA    NA       NA     NA      NA NA    NA    NA             NA NA         \n",
       "NA.1  NA       NA     NA      NA NA    NA    NA             NA NA         \n",
       "NA.2  NA       NA     NA      NA NA    NA    NA             NA NA         \n",
       "NA.3  NA       NA     NA      NA NA    NA    NA             NA NA         \n",
       "NA.4  NA       NA     NA      NA NA    NA    NA             NA NA         \n",
       "NA.5  NA       NA     NA      NA NA    NA    NA             NA NA         \n",
       "NA.6  NA       NA     NA      NA NA    NA    NA             NA NA         \n",
       "NA.7  NA       NA     NA      NA NA    NA    NA             NA NA         \n",
       "306    1        1     male  0.92  1     2    113781   151.5500 C22 C26    \n",
       "NA.8  NA       NA     NA      NA NA    NA    NA             NA NA         \n",
       "446    1        1     male  4.00  0     2    33638     81.8583 A34        \n",
       "NA.9  NA       NA     NA      NA NA    NA    NA             NA NA         \n",
       "506    0        1     male 18.00  1     0    PC 17758 108.9000 C65        \n",
       "NA.10 NA       NA     NA      NA NA    NA    NA             NA NA         \n",
       "NA.11 NA       NA     NA      NA NA    NA    NA             NA NA         \n",
       "551    1        1     male 17.00  0     2    17421    110.8833 C70        \n",
       "NA.12 NA       NA     NA      NA NA    NA    NA             NA NA         \n",
       "NA.13 NA       NA     NA      NA NA    NA    NA             NA NA         \n",
       "NA.14 NA       NA     NA      NA NA    NA    NA             NA NA         \n",
       "NA.15 NA       NA     NA      NA NA    NA    NA             NA NA         \n",
       "NA.16 NA       NA     NA      NA NA    NA    NA             NA NA         \n",
       "749    0        1     male 19.00  1     0    113773    53.1000 D30        \n",
       "NA.17 NA       NA     NA      NA NA    NA    NA             NA NA         \n",
       "NA.18 NA       NA     NA      NA NA    NA    NA             NA NA         \n",
       "803    1        1     male 11.00  1     2    113760   120.0000 B96 B98    \n",
       "NA.19 NA       NA     NA      NA NA    NA    NA             NA NA         \n",
       "NA.20 NA       NA     NA      NA NA    NA    NA             NA NA         \n",
       "      Embarked genderclass\n",
       "28    S        male 1     \n",
       "NA    NA       NA         \n",
       "NA.1  NA       NA         \n",
       "NA.2  NA       NA         \n",
       "NA.3  NA       NA         \n",
       "NA.4  NA       NA         \n",
       "NA.5  NA       NA         \n",
       "NA.6  NA       NA         \n",
       "NA.7  NA       NA         \n",
       "306   S        male 1     \n",
       "NA.8  NA       NA         \n",
       "446   S        male 1     \n",
       "NA.9  NA       NA         \n",
       "506   C        male 1     \n",
       "NA.10 NA       NA         \n",
       "NA.11 NA       NA         \n",
       "551   C        male 1     \n",
       "NA.12 NA       NA         \n",
       "NA.13 NA       NA         \n",
       "NA.14 NA       NA         \n",
       "NA.15 NA       NA         \n",
       "NA.16 NA       NA         \n",
       "749   S        male 1     \n",
       "NA.17 NA       NA         \n",
       "NA.18 NA       NA         \n",
       "803   S        male 1     \n",
       "NA.19 NA       NA         \n",
       "NA.20 NA       NA         "
      ]
     },
     "metadata": {},
     "output_type": "display_data"
    }
   ],
   "source": [
    "titanic[titanic$genderclass == 'male 1' & titanic$Age < 20,]"
   ]
  },
  {
   "cell_type": "code",
   "execution_count": null,
   "metadata": {},
   "outputs": [],
   "source": []
  }
 ],
 "metadata": {
  "kernelspec": {
   "display_name": "R",
   "language": "R",
   "name": "ir"
  },
  "language_info": {
   "codemirror_mode": "r",
   "file_extension": ".r",
   "mimetype": "text/x-r-source",
   "name": "R",
   "pygments_lexer": "r",
   "version": "3.3.2"
  }
 },
 "nbformat": 4,
 "nbformat_minor": 2
}
